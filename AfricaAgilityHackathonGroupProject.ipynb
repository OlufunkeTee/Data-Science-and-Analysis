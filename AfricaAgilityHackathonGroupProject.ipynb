{
  "nbformat": 4,
  "nbformat_minor": 0,
  "metadata": {
    "kernelspec": {
      "display_name": "Python 3",
      "language": "python",
      "name": "python3"
    },
    "language_info": {
      "codemirror_mode": {
        "name": "ipython",
        "version": 3
      },
      "file_extension": ".py",
      "mimetype": "text/x-python",
      "name": "python",
      "nbconvert_exporter": "python",
      "pygments_lexer": "ipython3",
      "version": "3.8.5"
    },
    "colab": {
      "name": "Hackathon_Project3edited.ipynb",
      "provenance": [],
      "include_colab_link": true
    }
  },
  "cells": [
    {
      "cell_type": "markdown",
      "metadata": {
        "id": "view-in-github",
        "colab_type": "text"
      },
      "source": [
        "<a href=\"https://colab.research.google.com/github/OlufunkeTee/Data-Science-and-Analysis/blob/main/AfricaAgilityHackathonGroupProject.ipynb\" target=\"_parent\"><img src=\"https://colab.research.google.com/assets/colab-badge.svg\" alt=\"Open In Colab\"/></a>"
      ]
    },
    {
      "cell_type": "code",
      "metadata": {
        "id": "lW57UYwLVaY5"
      },
      "source": [
        "import pandas as pd\n",
        "import numpy as np\n",
        "import matplotlib.pyplot as plt\n",
        "import seaborn as sns\n",
        "%matplotlib inline"
      ],
      "execution_count": 3,
      "outputs": []
    },
    {
      "cell_type": "code",
      "metadata": {
        "colab": {
          "base_uri": "https://localhost:8080/"
        },
        "id": "HE6X46SoVaY8",
        "outputId": "d7423f34-37e5-43e3-ca06-23f2960a98ed"
      },
      "source": [
        "Accidents = pd.read_csv('accidents_2012_to_2014.csv')"
      ],
      "execution_count": 4,
      "outputs": [
        {
          "output_type": "stream",
          "text": [
            "/usr/local/lib/python3.7/dist-packages/IPython/core/interactiveshell.py:2718: DtypeWarning: Columns (31) have mixed types.Specify dtype option on import or set low_memory=False.\n",
            "  interactivity=interactivity, compiler=compiler, result=result)\n"
          ],
          "name": "stderr"
        }
      ]
    },
    {
      "cell_type": "code",
      "metadata": {
        "colab": {
          "base_uri": "https://localhost:8080/"
        },
        "id": "Nqol_fsuVaY-",
        "outputId": "3355cc31-a5d8-4eb5-eb49-5e86705177b0"
      },
      "source": [
        "Accidents['Number_of_Casualties'].value_counts()"
      ],
      "execution_count": 5,
      "outputs": [
        {
          "output_type": "execute_result",
          "data": {
            "text/plain": [
              "1     361626\n",
              "2      70944\n",
              "3      20379\n",
              "4       7319\n",
              "5       2691\n",
              "6       1025\n",
              "7        333\n",
              "8        157\n",
              "9         81\n",
              "10        43\n",
              "11        27\n",
              "12        16\n",
              "13        11\n",
              "14         7\n",
              "17         4\n",
              "16         4\n",
              "15         3\n",
              "19         3\n",
              "21         3\n",
              "24         2\n",
              "25         2\n",
              "29         2\n",
              "87         1\n",
              "38         1\n",
              "70         1\n",
              "54         1\n",
              "46         1\n",
              "42         1\n",
              "41         1\n",
              "27         1\n",
              "33         1\n",
              "18         1\n",
              "26         1\n",
              "23         1\n",
              "22         1\n",
              "20         1\n",
              "93         1\n",
              "Name: Number_of_Casualties, dtype: int64"
            ]
          },
          "metadata": {
            "tags": []
          },
          "execution_count": 5
        }
      ]
    },
    {
      "cell_type": "code",
      "metadata": {
        "colab": {
          "base_uri": "https://localhost:8080/"
        },
        "id": "_Ne1Zt8hVaY_",
        "outputId": "757124ad-20e1-4c97-e655-0514a50e2a83"
      },
      "source": [
        "Accidents['Road_Surface_Conditions'].isna().sum()\n",
        "#755\n",
        "rsc = Accidents['Road_Surface_Conditions'].value_counts().head(1)\n",
        "Accidents['Road_Surface_Conditions'] = Accidents['Road_Surface_Conditions'].fillna('Dry')\n",
        "#rsc\n",
        "Accidents['Road_Surface_Conditions'].isna().sum()"
      ],
      "execution_count": 6,
      "outputs": [
        {
          "output_type": "execute_result",
          "data": {
            "text/plain": [
              "0"
            ]
          },
          "metadata": {
            "tags": []
          },
          "execution_count": 6
        }
      ]
    },
    {
      "cell_type": "code",
      "metadata": {
        "colab": {
          "base_uri": "https://localhost:8080/"
        },
        "id": "sJJBxlznVaZA",
        "outputId": "58ad00c5-3c22-40f5-c838-42ebade62f1d"
      },
      "source": [
        "Accidents['Urban_or_Rural_Area'].isna().sum()\n",
        "\n",
        "ura = Accidents['Urban_or_Rural_Area'].value_counts().head(1)\n",
        "Accidents['Urban_or_Rural_Area'] = Accidents['Urban_or_Rural_Area'].fillna(1)\n",
        "\n",
        "Accidents['Urban_or_Rural_Area'].isna().sum()"
      ],
      "execution_count": 7,
      "outputs": [
        {
          "output_type": "execute_result",
          "data": {
            "text/plain": [
              "0"
            ]
          },
          "metadata": {
            "tags": []
          },
          "execution_count": 7
        }
      ]
    },
    {
      "cell_type": "code",
      "metadata": {
        "colab": {
          "base_uri": "https://localhost:8080/"
        },
        "id": "rYAeCjfZVaZA",
        "outputId": "3e6f0dd2-33b5-43f1-ccb9-447cf5d5165c"
      },
      "source": [
        "Accidents['Special_Conditions_at_Site'].isna().sum()\n",
        "#2\n",
        "spes = Accidents['Special_Conditions_at_Site'].value_counts().head(1)\n",
        "Accidents['Special_Conditions_at_Site'] = Accidents['Special_Conditions_at_Site'].fillna('None')\n",
        "#spes\n",
        "Accidents['Special_Conditions_at_Site'].isna().sum()"
      ],
      "execution_count": 8,
      "outputs": [
        {
          "output_type": "execute_result",
          "data": {
            "text/plain": [
              "0"
            ]
          },
          "metadata": {
            "tags": []
          },
          "execution_count": 8
        }
      ]
    },
    {
      "cell_type": "code",
      "metadata": {
        "colab": {
          "base_uri": "https://localhost:8080/"
        },
        "id": "pGshYM1UVaZB",
        "outputId": "a612ea9f-610a-43bd-8553-abf9bff5e134"
      },
      "source": [
        "Accidents['Carriageway_Hazards'].isna().sum()\n",
        "#3\n",
        "carr = Accidents['Carriageway_Hazards'].value_counts().head(1)\n",
        "Accidents['Carriageway_Hazards'] = Accidents['Carriageway_Hazards'].fillna('None')\n",
        "Accidents['Carriageway_Hazards'].isna().sum()\n",
        "#carr"
      ],
      "execution_count": 9,
      "outputs": [
        {
          "output_type": "execute_result",
          "data": {
            "text/plain": [
              "0"
            ]
          },
          "metadata": {
            "tags": []
          },
          "execution_count": 9
        }
      ]
    },
    {
      "cell_type": "code",
      "metadata": {
        "colab": {
          "base_uri": "https://localhost:8080/"
        },
        "id": "rhkqXz4TVaZD",
        "outputId": "84eb1849-b111-4571-a93b-e4f4491c6d81"
      },
      "source": [
        "Accidents['Did_Police_Officer_Attend_Scene_of_Accident'].isna().sum()\n",
        "#2\n",
        "pol = Accidents['Did_Police_Officer_Attend_Scene_of_Accident'].value_counts().head(1)\n",
        "Accidents['Did_Police_Officer_Attend_Scene_of_Accident'] = Accidents['Did_Police_Officer_Attend_Scene_of_Accident'].fillna('Yes')\n",
        "Accidents['Did_Police_Officer_Attend_Scene_of_Accident'].isna().sum()\n",
        "#pol"
      ],
      "execution_count": 10,
      "outputs": [
        {
          "output_type": "execute_result",
          "data": {
            "text/plain": [
              "0"
            ]
          },
          "metadata": {
            "tags": []
          },
          "execution_count": 10
        }
      ]
    },
    {
      "cell_type": "code",
      "metadata": {
        "colab": {
          "base_uri": "https://localhost:8080/"
        },
        "id": "ppxsUyO8VaZF",
        "outputId": "6c8319d3-f84c-4f64-c058-d06c705e5e47"
      },
      "source": [
        "Accidents['Time'].isna().sum()"
      ],
      "execution_count": 11,
      "outputs": [
        {
          "output_type": "execute_result",
          "data": {
            "text/plain": [
              "13"
            ]
          },
          "metadata": {
            "tags": []
          },
          "execution_count": 11
        }
      ]
    },
    {
      "cell_type": "code",
      "metadata": {
        "colab": {
          "base_uri": "https://localhost:8080/"
        },
        "id": "xJXQbw9hVaZG",
        "outputId": "69691f8a-6fa3-49a8-de81-b15f7eaa7314"
      },
      "source": [
        "Accidents['Time']"
      ],
      "execution_count": 12,
      "outputs": [
        {
          "output_type": "execute_result",
          "data": {
            "text/plain": [
              "0         20:35\n",
              "1         17:00\n",
              "2         10:07\n",
              "3         12:20\n",
              "4         20:24\n",
              "          ...  \n",
              "464692    22:20\n",
              "464693    06:40\n",
              "464694    02:00\n",
              "464695    06:55\n",
              "464696    15:00\n",
              "Name: Time, Length: 464697, dtype: object"
            ]
          },
          "metadata": {
            "tags": []
          },
          "execution_count": 12
        }
      ]
    },
    {
      "cell_type": "code",
      "metadata": {
        "colab": {
          "base_uri": "https://localhost:8080/"
        },
        "id": "UtUn8KM_VaZH",
        "outputId": "d67c9cc0-c1e3-4fe1-d787-93cf18431c1b"
      },
      "source": [
        "Accidents['Time'] = Accidents['Time'].fillna('17:00')\n",
        "\n",
        "Accidents['Time'].value_counts().head(1)"
      ],
      "execution_count": 13,
      "outputs": [
        {
          "output_type": "execute_result",
          "data": {
            "text/plain": [
              "17:00    4622\n",
              "Name: Time, dtype: int64"
            ]
          },
          "metadata": {
            "tags": []
          },
          "execution_count": 13
        }
      ]
    },
    {
      "cell_type": "code",
      "metadata": {
        "colab": {
          "base_uri": "https://localhost:8080/"
        },
        "id": "cpOcPWhoVaZH",
        "outputId": "17639301-31af-4e02-cefe-19b9e9592fb5"
      },
      "source": [
        "Accidents['Time'].isna().sum()"
      ],
      "execution_count": 14,
      "outputs": [
        {
          "output_type": "execute_result",
          "data": {
            "text/plain": [
              "0"
            ]
          },
          "metadata": {
            "tags": []
          },
          "execution_count": 14
        }
      ]
    },
    {
      "cell_type": "code",
      "metadata": {
        "id": "XvgJkkTXVaZI"
      },
      "source": [
        "# Transforming the casualties column\n",
        "def convert_number_of_casualties (x):\n",
        "    if (x >= 0) and (x<=1):\n",
        "        return '1 casualty involved'\n",
        "    else:\n",
        "        return 'More than 1 casualty involved'\n",
        "Accidents['Number_of_Casualties'] = Accidents['Number_of_Casualties'].apply(convert_number_of_casualties)"
      ],
      "execution_count": 15,
      "outputs": []
    },
    {
      "cell_type": "code",
      "metadata": {
        "colab": {
          "base_uri": "https://localhost:8080/"
        },
        "id": "OSZpLf6QVaZJ",
        "outputId": "d3bf9b2f-0630-4c04-b8f7-b9cb47d4bf85"
      },
      "source": [
        "Accidents['Number_of_Casualties'].value_counts()"
      ],
      "execution_count": 16,
      "outputs": [
        {
          "output_type": "execute_result",
          "data": {
            "text/plain": [
              "1 casualty involved              361626\n",
              "More than 1 casualty involved    103071\n",
              "Name: Number_of_Casualties, dtype: int64"
            ]
          },
          "metadata": {
            "tags": []
          },
          "execution_count": 16
        }
      ]
    },
    {
      "cell_type": "code",
      "metadata": {
        "colab": {
          "base_uri": "https://localhost:8080/"
        },
        "id": "6bJHNh0zVaZJ",
        "outputId": "09b11fd3-0ca1-4d02-b923-e7c1ec8194fc"
      },
      "source": [
        "# changing the values to numbers for the ml model.\n",
        "Accidents['Number_of_Casualties'] = Accidents['Number_of_Casualties'].replace(['1 casualty involved','More than 1 casualty involved'], [0,1])\n",
        "Accidents['Number_of_Casualties'].value_counts()"
      ],
      "execution_count": 17,
      "outputs": [
        {
          "output_type": "execute_result",
          "data": {
            "text/plain": [
              "0    361626\n",
              "1    103071\n",
              "Name: Number_of_Casualties, dtype: int64"
            ]
          },
          "metadata": {
            "tags": []
          },
          "execution_count": 17
        }
      ]
    },
    {
      "cell_type": "code",
      "metadata": {
        "id": "i_7l8XGhVaZK"
      },
      "source": [
        "# TRANSFORMING THE TIME COLUMN\n",
        "def transform(x):\n",
        "    if (x >= 7) and (x < 19):\n",
        "        return 'day'\n",
        "    else:\n",
        "        return 'night'"
      ],
      "execution_count": 18,
      "outputs": []
    },
    {
      "cell_type": "code",
      "metadata": {
        "colab": {
          "base_uri": "https://localhost:8080/"
        },
        "id": "sg4gL5qxVaZK",
        "outputId": "f30fdc22-9098-44e1-a09c-c2aec20c4f68"
      },
      "source": [
        "Accidents['Time'].value_counts().head(1)"
      ],
      "execution_count": 19,
      "outputs": [
        {
          "output_type": "execute_result",
          "data": {
            "text/plain": [
              "17:00    4622\n",
              "Name: Time, dtype: int64"
            ]
          },
          "metadata": {
            "tags": []
          },
          "execution_count": 19
        }
      ]
    },
    {
      "cell_type": "code",
      "metadata": {
        "colab": {
          "base_uri": "https://localhost:8080/"
        },
        "id": "-R1t2fsVVaZK",
        "outputId": "487b7e9d-0c8a-48f8-f53a-7b4f1e0b7c9e"
      },
      "source": [
        "Accidents['Time'].str.split(':').str[0].astype(int).apply(transform)"
      ],
      "execution_count": 20,
      "outputs": [
        {
          "output_type": "execute_result",
          "data": {
            "text/plain": [
              "0         night\n",
              "1           day\n",
              "2           day\n",
              "3           day\n",
              "4         night\n",
              "          ...  \n",
              "464692    night\n",
              "464693    night\n",
              "464694    night\n",
              "464695    night\n",
              "464696      day\n",
              "Name: Time, Length: 464697, dtype: object"
            ]
          },
          "metadata": {
            "tags": []
          },
          "execution_count": 20
        }
      ]
    },
    {
      "cell_type": "code",
      "metadata": {
        "colab": {
          "base_uri": "https://localhost:8080/",
          "height": 377
        },
        "id": "YV47DCFPVaZL",
        "outputId": "1097a996-c73c-445b-ce3c-5f118eb8476b"
      },
      "source": [
        "Accidents.head()"
      ],
      "execution_count": 21,
      "outputs": [
        {
          "output_type": "execute_result",
          "data": {
            "text/html": [
              "<div>\n",
              "<style scoped>\n",
              "    .dataframe tbody tr th:only-of-type {\n",
              "        vertical-align: middle;\n",
              "    }\n",
              "\n",
              "    .dataframe tbody tr th {\n",
              "        vertical-align: top;\n",
              "    }\n",
              "\n",
              "    .dataframe thead th {\n",
              "        text-align: right;\n",
              "    }\n",
              "</style>\n",
              "<table border=\"1\" class=\"dataframe\">\n",
              "  <thead>\n",
              "    <tr style=\"text-align: right;\">\n",
              "      <th></th>\n",
              "      <th>Accident_Index</th>\n",
              "      <th>Location_Easting_OSGR</th>\n",
              "      <th>Location_Northing_OSGR</th>\n",
              "      <th>Longitude</th>\n",
              "      <th>Latitude</th>\n",
              "      <th>Police_Force</th>\n",
              "      <th>Accident_Severity</th>\n",
              "      <th>Number_of_Vehicles</th>\n",
              "      <th>Number_of_Casualties</th>\n",
              "      <th>Date</th>\n",
              "      <th>Day_of_Week</th>\n",
              "      <th>Time</th>\n",
              "      <th>Local_Authority_(District)</th>\n",
              "      <th>Local_Authority_(Highway)</th>\n",
              "      <th>1st_Road_Class</th>\n",
              "      <th>1st_Road_Number</th>\n",
              "      <th>Road_Type</th>\n",
              "      <th>Speed_limit</th>\n",
              "      <th>Junction_Detail</th>\n",
              "      <th>Junction_Control</th>\n",
              "      <th>2nd_Road_Class</th>\n",
              "      <th>2nd_Road_Number</th>\n",
              "      <th>Pedestrian_Crossing-Human_Control</th>\n",
              "      <th>Pedestrian_Crossing-Physical_Facilities</th>\n",
              "      <th>Light_Conditions</th>\n",
              "      <th>Weather_Conditions</th>\n",
              "      <th>Road_Surface_Conditions</th>\n",
              "      <th>Special_Conditions_at_Site</th>\n",
              "      <th>Carriageway_Hazards</th>\n",
              "      <th>Urban_or_Rural_Area</th>\n",
              "      <th>Did_Police_Officer_Attend_Scene_of_Accident</th>\n",
              "      <th>LSOA_of_Accident_Location</th>\n",
              "      <th>Year</th>\n",
              "    </tr>\n",
              "  </thead>\n",
              "  <tbody>\n",
              "    <tr>\n",
              "      <th>0</th>\n",
              "      <td>201201BS70001</td>\n",
              "      <td>527200</td>\n",
              "      <td>178760</td>\n",
              "      <td>-0.169101</td>\n",
              "      <td>51.493429</td>\n",
              "      <td>1</td>\n",
              "      <td>3</td>\n",
              "      <td>2</td>\n",
              "      <td>0</td>\n",
              "      <td>19/01/2012</td>\n",
              "      <td>5</td>\n",
              "      <td>20:35</td>\n",
              "      <td>12</td>\n",
              "      <td>E09000020</td>\n",
              "      <td>3</td>\n",
              "      <td>308</td>\n",
              "      <td>Single carriageway</td>\n",
              "      <td>30</td>\n",
              "      <td>NaN</td>\n",
              "      <td>Automatic traffic signal</td>\n",
              "      <td>5</td>\n",
              "      <td>0</td>\n",
              "      <td>None within 50 metres</td>\n",
              "      <td>Pedestrian phase at traffic signal junction</td>\n",
              "      <td>Darkness: Street lights present and lit</td>\n",
              "      <td>Fine without high winds</td>\n",
              "      <td>Dry</td>\n",
              "      <td>None</td>\n",
              "      <td>None</td>\n",
              "      <td>1</td>\n",
              "      <td>Yes</td>\n",
              "      <td>E01002821</td>\n",
              "      <td>2012</td>\n",
              "    </tr>\n",
              "    <tr>\n",
              "      <th>1</th>\n",
              "      <td>201201BS70002</td>\n",
              "      <td>524930</td>\n",
              "      <td>181430</td>\n",
              "      <td>-0.200838</td>\n",
              "      <td>51.517931</td>\n",
              "      <td>1</td>\n",
              "      <td>3</td>\n",
              "      <td>2</td>\n",
              "      <td>0</td>\n",
              "      <td>04/01/2012</td>\n",
              "      <td>4</td>\n",
              "      <td>17:00</td>\n",
              "      <td>1</td>\n",
              "      <td>E09000033</td>\n",
              "      <td>4</td>\n",
              "      <td>412</td>\n",
              "      <td>Single carriageway</td>\n",
              "      <td>30</td>\n",
              "      <td>NaN</td>\n",
              "      <td>Giveway or uncontrolled</td>\n",
              "      <td>6</td>\n",
              "      <td>0</td>\n",
              "      <td>None within 50 metres</td>\n",
              "      <td>No physical crossing within 50 meters</td>\n",
              "      <td>Darkness: Street lights present and lit</td>\n",
              "      <td>Fine without high winds</td>\n",
              "      <td>Dry</td>\n",
              "      <td>None</td>\n",
              "      <td>None</td>\n",
              "      <td>1</td>\n",
              "      <td>Yes</td>\n",
              "      <td>E01004760</td>\n",
              "      <td>2012</td>\n",
              "    </tr>\n",
              "    <tr>\n",
              "      <th>2</th>\n",
              "      <td>201201BS70003</td>\n",
              "      <td>525860</td>\n",
              "      <td>178080</td>\n",
              "      <td>-0.188636</td>\n",
              "      <td>51.487618</td>\n",
              "      <td>1</td>\n",
              "      <td>3</td>\n",
              "      <td>2</td>\n",
              "      <td>0</td>\n",
              "      <td>10/01/2012</td>\n",
              "      <td>3</td>\n",
              "      <td>10:07</td>\n",
              "      <td>12</td>\n",
              "      <td>E09000020</td>\n",
              "      <td>3</td>\n",
              "      <td>3220</td>\n",
              "      <td>One way street</td>\n",
              "      <td>30</td>\n",
              "      <td>NaN</td>\n",
              "      <td>Giveway or uncontrolled</td>\n",
              "      <td>6</td>\n",
              "      <td>0</td>\n",
              "      <td>None within 50 metres</td>\n",
              "      <td>non-junction pedestrian crossing</td>\n",
              "      <td>Daylight: Street light present</td>\n",
              "      <td>Fine without high winds</td>\n",
              "      <td>Dry</td>\n",
              "      <td>None</td>\n",
              "      <td>None</td>\n",
              "      <td>1</td>\n",
              "      <td>Yes</td>\n",
              "      <td>E01002893</td>\n",
              "      <td>2012</td>\n",
              "    </tr>\n",
              "    <tr>\n",
              "      <th>3</th>\n",
              "      <td>201201BS70004</td>\n",
              "      <td>524980</td>\n",
              "      <td>181030</td>\n",
              "      <td>-0.200259</td>\n",
              "      <td>51.514325</td>\n",
              "      <td>1</td>\n",
              "      <td>3</td>\n",
              "      <td>1</td>\n",
              "      <td>0</td>\n",
              "      <td>18/01/2012</td>\n",
              "      <td>4</td>\n",
              "      <td>12:20</td>\n",
              "      <td>12</td>\n",
              "      <td>E09000020</td>\n",
              "      <td>5</td>\n",
              "      <td>0</td>\n",
              "      <td>Single carriageway</td>\n",
              "      <td>30</td>\n",
              "      <td>NaN</td>\n",
              "      <td>Giveway or uncontrolled</td>\n",
              "      <td>6</td>\n",
              "      <td>0</td>\n",
              "      <td>None within 50 metres</td>\n",
              "      <td>No physical crossing within 50 meters</td>\n",
              "      <td>Daylight: Street light present</td>\n",
              "      <td>Fine without high winds</td>\n",
              "      <td>Dry</td>\n",
              "      <td>None</td>\n",
              "      <td>None</td>\n",
              "      <td>1</td>\n",
              "      <td>Yes</td>\n",
              "      <td>E01002886</td>\n",
              "      <td>2012</td>\n",
              "    </tr>\n",
              "    <tr>\n",
              "      <th>4</th>\n",
              "      <td>201201BS70005</td>\n",
              "      <td>526170</td>\n",
              "      <td>179200</td>\n",
              "      <td>-0.183773</td>\n",
              "      <td>51.497614</td>\n",
              "      <td>1</td>\n",
              "      <td>3</td>\n",
              "      <td>1</td>\n",
              "      <td>0</td>\n",
              "      <td>17/01/2012</td>\n",
              "      <td>3</td>\n",
              "      <td>20:24</td>\n",
              "      <td>12</td>\n",
              "      <td>E09000020</td>\n",
              "      <td>4</td>\n",
              "      <td>325</td>\n",
              "      <td>Single carriageway</td>\n",
              "      <td>30</td>\n",
              "      <td>NaN</td>\n",
              "      <td>Giveway or uncontrolled</td>\n",
              "      <td>6</td>\n",
              "      <td>0</td>\n",
              "      <td>None within 50 metres</td>\n",
              "      <td>No physical crossing within 50 meters</td>\n",
              "      <td>Darkness: Street lights present and lit</td>\n",
              "      <td>Fine without high winds</td>\n",
              "      <td>Dry</td>\n",
              "      <td>None</td>\n",
              "      <td>None</td>\n",
              "      <td>1</td>\n",
              "      <td>Yes</td>\n",
              "      <td>E01002890</td>\n",
              "      <td>2012</td>\n",
              "    </tr>\n",
              "  </tbody>\n",
              "</table>\n",
              "</div>"
            ],
            "text/plain": [
              "  Accident_Index  Location_Easting_OSGR  ...  LSOA_of_Accident_Location  Year\n",
              "0  201201BS70001                 527200  ...                  E01002821  2012\n",
              "1  201201BS70002                 524930  ...                  E01004760  2012\n",
              "2  201201BS70003                 525860  ...                  E01002893  2012\n",
              "3  201201BS70004                 524980  ...                  E01002886  2012\n",
              "4  201201BS70005                 526170  ...                  E01002890  2012\n",
              "\n",
              "[5 rows x 33 columns]"
            ]
          },
          "metadata": {
            "tags": []
          },
          "execution_count": 21
        }
      ]
    },
    {
      "cell_type": "code",
      "metadata": {
        "id": "zKzLdr4OVaZL"
      },
      "source": [
        ""
      ],
      "execution_count": 21,
      "outputs": []
    },
    {
      "cell_type": "code",
      "metadata": {
        "colab": {
          "base_uri": "https://localhost:8080/",
          "height": 317
        },
        "id": "28h82KwqVaZL",
        "outputId": "d028a82b-3d14-446f-c6e0-3b5ffbd96c86"
      },
      "source": [
        "Accidents.describe()"
      ],
      "execution_count": 22,
      "outputs": [
        {
          "output_type": "execute_result",
          "data": {
            "text/html": [
              "<div>\n",
              "<style scoped>\n",
              "    .dataframe tbody tr th:only-of-type {\n",
              "        vertical-align: middle;\n",
              "    }\n",
              "\n",
              "    .dataframe tbody tr th {\n",
              "        vertical-align: top;\n",
              "    }\n",
              "\n",
              "    .dataframe thead th {\n",
              "        text-align: right;\n",
              "    }\n",
              "</style>\n",
              "<table border=\"1\" class=\"dataframe\">\n",
              "  <thead>\n",
              "    <tr style=\"text-align: right;\">\n",
              "      <th></th>\n",
              "      <th>Location_Easting_OSGR</th>\n",
              "      <th>Location_Northing_OSGR</th>\n",
              "      <th>Longitude</th>\n",
              "      <th>Latitude</th>\n",
              "      <th>Police_Force</th>\n",
              "      <th>Accident_Severity</th>\n",
              "      <th>Number_of_Vehicles</th>\n",
              "      <th>Number_of_Casualties</th>\n",
              "      <th>Day_of_Week</th>\n",
              "      <th>Local_Authority_(District)</th>\n",
              "      <th>1st_Road_Class</th>\n",
              "      <th>1st_Road_Number</th>\n",
              "      <th>Speed_limit</th>\n",
              "      <th>Junction_Detail</th>\n",
              "      <th>2nd_Road_Class</th>\n",
              "      <th>2nd_Road_Number</th>\n",
              "      <th>Urban_or_Rural_Area</th>\n",
              "      <th>Year</th>\n",
              "    </tr>\n",
              "  </thead>\n",
              "  <tbody>\n",
              "    <tr>\n",
              "      <th>count</th>\n",
              "      <td>464697.000000</td>\n",
              "      <td>4.646970e+05</td>\n",
              "      <td>464697.000000</td>\n",
              "      <td>464697.000000</td>\n",
              "      <td>464697.000000</td>\n",
              "      <td>464697.000000</td>\n",
              "      <td>464697.000000</td>\n",
              "      <td>464697.000000</td>\n",
              "      <td>464697.000000</td>\n",
              "      <td>464697.000000</td>\n",
              "      <td>464697.000000</td>\n",
              "      <td>464697.000000</td>\n",
              "      <td>464697.000000</td>\n",
              "      <td>0.0</td>\n",
              "      <td>464697.000000</td>\n",
              "      <td>464697.000000</td>\n",
              "      <td>464697.000000</td>\n",
              "      <td>464697.000000</td>\n",
              "    </tr>\n",
              "    <tr>\n",
              "      <th>mean</th>\n",
              "      <td>443834.284222</td>\n",
              "      <td>2.986258e+05</td>\n",
              "      <td>-1.375156</td>\n",
              "      <td>52.575498</td>\n",
              "      <td>28.504051</td>\n",
              "      <td>2.833461</td>\n",
              "      <td>1.828086</td>\n",
              "      <td>0.221803</td>\n",
              "      <td>4.108740</td>\n",
              "      <td>329.123829</td>\n",
              "      <td>4.070136</td>\n",
              "      <td>1012.728324</td>\n",
              "      <td>38.229793</td>\n",
              "      <td>NaN</td>\n",
              "      <td>2.786293</td>\n",
              "      <td>380.952317</td>\n",
              "      <td>1.337426</td>\n",
              "      <td>2012.928140</td>\n",
              "    </tr>\n",
              "    <tr>\n",
              "      <th>std</th>\n",
              "      <td>94098.865933</td>\n",
              "      <td>1.594701e+05</td>\n",
              "      <td>1.382137</td>\n",
              "      <td>1.436370</td>\n",
              "      <td>25.334899</td>\n",
              "      <td>0.402029</td>\n",
              "      <td>0.708703</td>\n",
              "      <td>0.415459</td>\n",
              "      <td>1.916429</td>\n",
              "      <td>259.222621</td>\n",
              "      <td>1.413850</td>\n",
              "      <td>1810.523701</td>\n",
              "      <td>13.800546</td>\n",
              "      <td>NaN</td>\n",
              "      <td>3.187084</td>\n",
              "      <td>1289.786824</td>\n",
              "      <td>0.472832</td>\n",
              "      <td>0.834536</td>\n",
              "    </tr>\n",
              "    <tr>\n",
              "      <th>min</th>\n",
              "      <td>65510.000000</td>\n",
              "      <td>1.029000e+04</td>\n",
              "      <td>-7.509162</td>\n",
              "      <td>49.912941</td>\n",
              "      <td>1.000000</td>\n",
              "      <td>1.000000</td>\n",
              "      <td>1.000000</td>\n",
              "      <td>0.000000</td>\n",
              "      <td>1.000000</td>\n",
              "      <td>1.000000</td>\n",
              "      <td>1.000000</td>\n",
              "      <td>0.000000</td>\n",
              "      <td>10.000000</td>\n",
              "      <td>NaN</td>\n",
              "      <td>-1.000000</td>\n",
              "      <td>-1.000000</td>\n",
              "      <td>1.000000</td>\n",
              "      <td>2012.000000</td>\n",
              "    </tr>\n",
              "    <tr>\n",
              "      <th>25%</th>\n",
              "      <td>379059.000000</td>\n",
              "      <td>1.777100e+05</td>\n",
              "      <td>-2.315799</td>\n",
              "      <td>51.484841</td>\n",
              "      <td>6.000000</td>\n",
              "      <td>3.000000</td>\n",
              "      <td>1.000000</td>\n",
              "      <td>0.000000</td>\n",
              "      <td>2.000000</td>\n",
              "      <td>95.000000</td>\n",
              "      <td>3.000000</td>\n",
              "      <td>0.000000</td>\n",
              "      <td>30.000000</td>\n",
              "      <td>NaN</td>\n",
              "      <td>-1.000000</td>\n",
              "      <td>0.000000</td>\n",
              "      <td>1.000000</td>\n",
              "      <td>2012.000000</td>\n",
              "    </tr>\n",
              "    <tr>\n",
              "      <th>50%</th>\n",
              "      <td>445539.000000</td>\n",
              "      <td>2.606800e+05</td>\n",
              "      <td>-1.323374</td>\n",
              "      <td>52.232169</td>\n",
              "      <td>22.000000</td>\n",
              "      <td>3.000000</td>\n",
              "      <td>2.000000</td>\n",
              "      <td>0.000000</td>\n",
              "      <td>4.000000</td>\n",
              "      <td>300.000000</td>\n",
              "      <td>3.000000</td>\n",
              "      <td>147.000000</td>\n",
              "      <td>30.000000</td>\n",
              "      <td>NaN</td>\n",
              "      <td>3.000000</td>\n",
              "      <td>0.000000</td>\n",
              "      <td>1.000000</td>\n",
              "      <td>2013.000000</td>\n",
              "    </tr>\n",
              "    <tr>\n",
              "      <th>75%</th>\n",
              "      <td>525350.000000</td>\n",
              "      <td>3.989590e+05</td>\n",
              "      <td>-0.192935</td>\n",
              "      <td>53.485973</td>\n",
              "      <td>45.000000</td>\n",
              "      <td>3.000000</td>\n",
              "      <td>2.000000</td>\n",
              "      <td>0.000000</td>\n",
              "      <td>6.000000</td>\n",
              "      <td>511.000000</td>\n",
              "      <td>6.000000</td>\n",
              "      <td>759.000000</td>\n",
              "      <td>40.000000</td>\n",
              "      <td>NaN</td>\n",
              "      <td>6.000000</td>\n",
              "      <td>0.000000</td>\n",
              "      <td>2.000000</td>\n",
              "      <td>2014.000000</td>\n",
              "    </tr>\n",
              "    <tr>\n",
              "      <th>max</th>\n",
              "      <td>655370.000000</td>\n",
              "      <td>1.190858e+06</td>\n",
              "      <td>1.759382</td>\n",
              "      <td>60.597984</td>\n",
              "      <td>98.000000</td>\n",
              "      <td>3.000000</td>\n",
              "      <td>67.000000</td>\n",
              "      <td>1.000000</td>\n",
              "      <td>7.000000</td>\n",
              "      <td>941.000000</td>\n",
              "      <td>6.000000</td>\n",
              "      <td>9999.000000</td>\n",
              "      <td>70.000000</td>\n",
              "      <td>NaN</td>\n",
              "      <td>6.000000</td>\n",
              "      <td>9999.000000</td>\n",
              "      <td>2.000000</td>\n",
              "      <td>2014.000000</td>\n",
              "    </tr>\n",
              "  </tbody>\n",
              "</table>\n",
              "</div>"
            ],
            "text/plain": [
              "       Location_Easting_OSGR  ...           Year\n",
              "count          464697.000000  ...  464697.000000\n",
              "mean           443834.284222  ...    2012.928140\n",
              "std             94098.865933  ...       0.834536\n",
              "min             65510.000000  ...    2012.000000\n",
              "25%            379059.000000  ...    2012.000000\n",
              "50%            445539.000000  ...    2013.000000\n",
              "75%            525350.000000  ...    2014.000000\n",
              "max            655370.000000  ...    2014.000000\n",
              "\n",
              "[8 rows x 18 columns]"
            ]
          },
          "metadata": {
            "tags": []
          },
          "execution_count": 22
        }
      ]
    },
    {
      "cell_type": "code",
      "metadata": {
        "colab": {
          "base_uri": "https://localhost:8080/"
        },
        "id": "hPp_lvfsVaZL",
        "outputId": "de2d74a3-b79d-4d2b-f4a6-8e936c773a79"
      },
      "source": [
        "Accidents.info()"
      ],
      "execution_count": 23,
      "outputs": [
        {
          "output_type": "stream",
          "text": [
            "<class 'pandas.core.frame.DataFrame'>\n",
            "RangeIndex: 464697 entries, 0 to 464696\n",
            "Data columns (total 33 columns):\n",
            " #   Column                                       Non-Null Count   Dtype  \n",
            "---  ------                                       --------------   -----  \n",
            " 0   Accident_Index                               464697 non-null  object \n",
            " 1   Location_Easting_OSGR                        464697 non-null  int64  \n",
            " 2   Location_Northing_OSGR                       464697 non-null  int64  \n",
            " 3   Longitude                                    464697 non-null  float64\n",
            " 4   Latitude                                     464697 non-null  float64\n",
            " 5   Police_Force                                 464697 non-null  int64  \n",
            " 6   Accident_Severity                            464697 non-null  int64  \n",
            " 7   Number_of_Vehicles                           464697 non-null  int64  \n",
            " 8   Number_of_Casualties                         464697 non-null  int64  \n",
            " 9   Date                                         464697 non-null  object \n",
            " 10  Day_of_Week                                  464697 non-null  int64  \n",
            " 11  Time                                         464697 non-null  object \n",
            " 12  Local_Authority_(District)                   464697 non-null  int64  \n",
            " 13  Local_Authority_(Highway)                    464697 non-null  object \n",
            " 14  1st_Road_Class                               464697 non-null  int64  \n",
            " 15  1st_Road_Number                              464697 non-null  int64  \n",
            " 16  Road_Type                                    464697 non-null  object \n",
            " 17  Speed_limit                                  464697 non-null  int64  \n",
            " 18  Junction_Detail                              0 non-null       float64\n",
            " 19  Junction_Control                             286087 non-null  object \n",
            " 20  2nd_Road_Class                               464697 non-null  int64  \n",
            " 21  2nd_Road_Number                              464697 non-null  int64  \n",
            " 22  Pedestrian_Crossing-Human_Control            464697 non-null  object \n",
            " 23  Pedestrian_Crossing-Physical_Facilities      464697 non-null  object \n",
            " 24  Light_Conditions                             464697 non-null  object \n",
            " 25  Weather_Conditions                           464697 non-null  object \n",
            " 26  Road_Surface_Conditions                      464697 non-null  object \n",
            " 27  Special_Conditions_at_Site                   464697 non-null  object \n",
            " 28  Carriageway_Hazards                          464697 non-null  object \n",
            " 29  Urban_or_Rural_Area                          464697 non-null  int64  \n",
            " 30  Did_Police_Officer_Attend_Scene_of_Accident  464697 non-null  object \n",
            " 31  LSOA_of_Accident_Location                    435979 non-null  object \n",
            " 32  Year                                         464697 non-null  int64  \n",
            "dtypes: float64(3), int64(15), object(15)\n",
            "memory usage: 117.0+ MB\n"
          ],
          "name": "stdout"
        }
      ]
    },
    {
      "cell_type": "code",
      "metadata": {
        "colab": {
          "base_uri": "https://localhost:8080/"
        },
        "id": "Zj4PO0O8VaZM",
        "outputId": "bbc930ff-5929-4214-9bf0-cacb115a78c2"
      },
      "source": [
        "Accidents.columns"
      ],
      "execution_count": 24,
      "outputs": [
        {
          "output_type": "execute_result",
          "data": {
            "text/plain": [
              "Index(['Accident_Index', 'Location_Easting_OSGR', 'Location_Northing_OSGR',\n",
              "       'Longitude', 'Latitude', 'Police_Force', 'Accident_Severity',\n",
              "       'Number_of_Vehicles', 'Number_of_Casualties', 'Date', 'Day_of_Week',\n",
              "       'Time', 'Local_Authority_(District)', 'Local_Authority_(Highway)',\n",
              "       '1st_Road_Class', '1st_Road_Number', 'Road_Type', 'Speed_limit',\n",
              "       'Junction_Detail', 'Junction_Control', '2nd_Road_Class',\n",
              "       '2nd_Road_Number', 'Pedestrian_Crossing-Human_Control',\n",
              "       'Pedestrian_Crossing-Physical_Facilities', 'Light_Conditions',\n",
              "       'Weather_Conditions', 'Road_Surface_Conditions',\n",
              "       'Special_Conditions_at_Site', 'Carriageway_Hazards',\n",
              "       'Urban_or_Rural_Area', 'Did_Police_Officer_Attend_Scene_of_Accident',\n",
              "       'LSOA_of_Accident_Location', 'Year'],\n",
              "      dtype='object')"
            ]
          },
          "metadata": {
            "tags": []
          },
          "execution_count": 24
        }
      ]
    },
    {
      "cell_type": "code",
      "metadata": {
        "colab": {
          "base_uri": "https://localhost:8080/"
        },
        "id": "oTVMF9DqVaZM",
        "outputId": "d6eaf4f8-5140-4d0e-b6a6-ca316432e7eb"
      },
      "source": [
        "Accidents.isnull().sum()"
      ],
      "execution_count": 25,
      "outputs": [
        {
          "output_type": "execute_result",
          "data": {
            "text/plain": [
              "Accident_Index                                      0\n",
              "Location_Easting_OSGR                               0\n",
              "Location_Northing_OSGR                              0\n",
              "Longitude                                           0\n",
              "Latitude                                            0\n",
              "Police_Force                                        0\n",
              "Accident_Severity                                   0\n",
              "Number_of_Vehicles                                  0\n",
              "Number_of_Casualties                                0\n",
              "Date                                                0\n",
              "Day_of_Week                                         0\n",
              "Time                                                0\n",
              "Local_Authority_(District)                          0\n",
              "Local_Authority_(Highway)                           0\n",
              "1st_Road_Class                                      0\n",
              "1st_Road_Number                                     0\n",
              "Road_Type                                           0\n",
              "Speed_limit                                         0\n",
              "Junction_Detail                                464697\n",
              "Junction_Control                               178610\n",
              "2nd_Road_Class                                      0\n",
              "2nd_Road_Number                                     0\n",
              "Pedestrian_Crossing-Human_Control                   0\n",
              "Pedestrian_Crossing-Physical_Facilities             0\n",
              "Light_Conditions                                    0\n",
              "Weather_Conditions                                  0\n",
              "Road_Surface_Conditions                             0\n",
              "Special_Conditions_at_Site                          0\n",
              "Carriageway_Hazards                                 0\n",
              "Urban_or_Rural_Area                                 0\n",
              "Did_Police_Officer_Attend_Scene_of_Accident         0\n",
              "LSOA_of_Accident_Location                       28718\n",
              "Year                                                0\n",
              "dtype: int64"
            ]
          },
          "metadata": {
            "tags": []
          },
          "execution_count": 25
        }
      ]
    },
    {
      "cell_type": "code",
      "metadata": {
        "id": "VId83bMFVaZN"
      },
      "source": [
        ""
      ],
      "execution_count": 25,
      "outputs": []
    },
    {
      "cell_type": "code",
      "metadata": {
        "colab": {
          "base_uri": "https://localhost:8080/",
          "height": 627
        },
        "id": "Aampvn4gVaZN",
        "outputId": "97299bd2-71f1-4a85-cfa8-c4834a0ae489"
      },
      "source": [
        "Accidents.corr()"
      ],
      "execution_count": 26,
      "outputs": [
        {
          "output_type": "execute_result",
          "data": {
            "text/html": [
              "<div>\n",
              "<style scoped>\n",
              "    .dataframe tbody tr th:only-of-type {\n",
              "        vertical-align: middle;\n",
              "    }\n",
              "\n",
              "    .dataframe tbody tr th {\n",
              "        vertical-align: top;\n",
              "    }\n",
              "\n",
              "    .dataframe thead th {\n",
              "        text-align: right;\n",
              "    }\n",
              "</style>\n",
              "<table border=\"1\" class=\"dataframe\">\n",
              "  <thead>\n",
              "    <tr style=\"text-align: right;\">\n",
              "      <th></th>\n",
              "      <th>Location_Easting_OSGR</th>\n",
              "      <th>Location_Northing_OSGR</th>\n",
              "      <th>Longitude</th>\n",
              "      <th>Latitude</th>\n",
              "      <th>Police_Force</th>\n",
              "      <th>Accident_Severity</th>\n",
              "      <th>Number_of_Vehicles</th>\n",
              "      <th>Number_of_Casualties</th>\n",
              "      <th>Day_of_Week</th>\n",
              "      <th>Local_Authority_(District)</th>\n",
              "      <th>1st_Road_Class</th>\n",
              "      <th>1st_Road_Number</th>\n",
              "      <th>Speed_limit</th>\n",
              "      <th>Junction_Detail</th>\n",
              "      <th>2nd_Road_Class</th>\n",
              "      <th>2nd_Road_Number</th>\n",
              "      <th>Urban_or_Rural_Area</th>\n",
              "      <th>Year</th>\n",
              "    </tr>\n",
              "  </thead>\n",
              "  <tbody>\n",
              "    <tr>\n",
              "      <th>Location_Easting_OSGR</th>\n",
              "      <td>1.000000</td>\n",
              "      <td>-0.443488</td>\n",
              "      <td>0.999394</td>\n",
              "      <td>-0.445512</td>\n",
              "      <td>-0.341086</td>\n",
              "      <td>0.033165</td>\n",
              "      <td>0.014412</td>\n",
              "      <td>-0.045708</td>\n",
              "      <td>-0.002260</td>\n",
              "      <td>-0.365255</td>\n",
              "      <td>-0.059309</td>\n",
              "      <td>-0.099017</td>\n",
              "      <td>-0.069761</td>\n",
              "      <td>NaN</td>\n",
              "      <td>0.057491</td>\n",
              "      <td>-0.024555</td>\n",
              "      <td>-0.108093</td>\n",
              "      <td>0.028422</td>\n",
              "    </tr>\n",
              "    <tr>\n",
              "      <th>Location_Northing_OSGR</th>\n",
              "      <td>-0.443488</td>\n",
              "      <td>1.000000</td>\n",
              "      <td>-0.452043</td>\n",
              "      <td>0.999974</td>\n",
              "      <td>0.153230</td>\n",
              "      <td>-0.031794</td>\n",
              "      <td>-0.032548</td>\n",
              "      <td>0.033951</td>\n",
              "      <td>0.006142</td>\n",
              "      <td>0.114367</td>\n",
              "      <td>0.053008</td>\n",
              "      <td>0.055043</td>\n",
              "      <td>0.064186</td>\n",
              "      <td>NaN</td>\n",
              "      <td>-0.047574</td>\n",
              "      <td>0.050909</td>\n",
              "      <td>0.063538</td>\n",
              "      <td>-0.049919</td>\n",
              "    </tr>\n",
              "    <tr>\n",
              "      <th>Longitude</th>\n",
              "      <td>0.999394</td>\n",
              "      <td>-0.452043</td>\n",
              "      <td>1.000000</td>\n",
              "      <td>-0.453969</td>\n",
              "      <td>-0.353312</td>\n",
              "      <td>0.033144</td>\n",
              "      <td>0.015349</td>\n",
              "      <td>-0.044273</td>\n",
              "      <td>-0.002335</td>\n",
              "      <td>-0.374428</td>\n",
              "      <td>-0.058011</td>\n",
              "      <td>-0.096585</td>\n",
              "      <td>-0.069084</td>\n",
              "      <td>NaN</td>\n",
              "      <td>0.057676</td>\n",
              "      <td>-0.022418</td>\n",
              "      <td>-0.106236</td>\n",
              "      <td>0.028124</td>\n",
              "    </tr>\n",
              "    <tr>\n",
              "      <th>Latitude</th>\n",
              "      <td>-0.445512</td>\n",
              "      <td>0.999974</td>\n",
              "      <td>-0.453969</td>\n",
              "      <td>1.000000</td>\n",
              "      <td>0.151249</td>\n",
              "      <td>-0.031863</td>\n",
              "      <td>-0.032358</td>\n",
              "      <td>0.034101</td>\n",
              "      <td>0.006144</td>\n",
              "      <td>0.112716</td>\n",
              "      <td>0.053068</td>\n",
              "      <td>0.055946</td>\n",
              "      <td>0.063912</td>\n",
              "      <td>NaN</td>\n",
              "      <td>-0.047352</td>\n",
              "      <td>0.051648</td>\n",
              "      <td>0.063078</td>\n",
              "      <td>-0.050133</td>\n",
              "    </tr>\n",
              "    <tr>\n",
              "      <th>Police_Force</th>\n",
              "      <td>-0.341086</td>\n",
              "      <td>0.153230</td>\n",
              "      <td>-0.353312</td>\n",
              "      <td>0.151249</td>\n",
              "      <td>1.000000</td>\n",
              "      <td>-0.039979</td>\n",
              "      <td>-0.005590</td>\n",
              "      <td>0.018755</td>\n",
              "      <td>-0.001216</td>\n",
              "      <td>0.982313</td>\n",
              "      <td>0.046606</td>\n",
              "      <td>0.007602</td>\n",
              "      <td>0.204729</td>\n",
              "      <td>NaN</td>\n",
              "      <td>-0.123164</td>\n",
              "      <td>-0.022331</td>\n",
              "      <td>0.248518</td>\n",
              "      <td>0.070912</td>\n",
              "    </tr>\n",
              "    <tr>\n",
              "      <th>Accident_Severity</th>\n",
              "      <td>0.033165</td>\n",
              "      <td>-0.031794</td>\n",
              "      <td>0.033144</td>\n",
              "      <td>-0.031863</td>\n",
              "      <td>-0.039979</td>\n",
              "      <td>1.000000</td>\n",
              "      <td>0.078750</td>\n",
              "      <td>-0.035736</td>\n",
              "      <td>0.003478</td>\n",
              "      <td>-0.043415</td>\n",
              "      <td>-0.000410</td>\n",
              "      <td>-0.007502</td>\n",
              "      <td>-0.073219</td>\n",
              "      <td>NaN</td>\n",
              "      <td>0.059245</td>\n",
              "      <td>0.022077</td>\n",
              "      <td>-0.079522</td>\n",
              "      <td>0.006445</td>\n",
              "    </tr>\n",
              "    <tr>\n",
              "      <th>Number_of_Vehicles</th>\n",
              "      <td>0.014412</td>\n",
              "      <td>-0.032548</td>\n",
              "      <td>0.015349</td>\n",
              "      <td>-0.032358</td>\n",
              "      <td>-0.005590</td>\n",
              "      <td>0.078750</td>\n",
              "      <td>1.000000</td>\n",
              "      <td>0.242307</td>\n",
              "      <td>0.003376</td>\n",
              "      <td>-0.001769</td>\n",
              "      <td>-0.147088</td>\n",
              "      <td>-0.008277</td>\n",
              "      <td>0.089665</td>\n",
              "      <td>NaN</td>\n",
              "      <td>0.064620</td>\n",
              "      <td>0.022293</td>\n",
              "      <td>0.044852</td>\n",
              "      <td>0.005481</td>\n",
              "    </tr>\n",
              "    <tr>\n",
              "      <th>Number_of_Casualties</th>\n",
              "      <td>-0.045708</td>\n",
              "      <td>0.033951</td>\n",
              "      <td>-0.044273</td>\n",
              "      <td>0.034101</td>\n",
              "      <td>0.018755</td>\n",
              "      <td>-0.035736</td>\n",
              "      <td>0.242307</td>\n",
              "      <td>1.000000</td>\n",
              "      <td>0.001465</td>\n",
              "      <td>0.027352</td>\n",
              "      <td>-0.088716</td>\n",
              "      <td>0.010817</td>\n",
              "      <td>0.155721</td>\n",
              "      <td>NaN</td>\n",
              "      <td>-0.027573</td>\n",
              "      <td>0.007884</td>\n",
              "      <td>0.131478</td>\n",
              "      <td>-0.010733</td>\n",
              "    </tr>\n",
              "    <tr>\n",
              "      <th>Day_of_Week</th>\n",
              "      <td>-0.002260</td>\n",
              "      <td>0.006142</td>\n",
              "      <td>-0.002335</td>\n",
              "      <td>0.006144</td>\n",
              "      <td>-0.001216</td>\n",
              "      <td>0.003478</td>\n",
              "      <td>0.003376</td>\n",
              "      <td>0.001465</td>\n",
              "      <td>1.000000</td>\n",
              "      <td>-0.002014</td>\n",
              "      <td>0.004594</td>\n",
              "      <td>0.003172</td>\n",
              "      <td>-0.015876</td>\n",
              "      <td>NaN</td>\n",
              "      <td>0.011538</td>\n",
              "      <td>-0.000495</td>\n",
              "      <td>-0.018107</td>\n",
              "      <td>-0.002890</td>\n",
              "    </tr>\n",
              "    <tr>\n",
              "      <th>Local_Authority_(District)</th>\n",
              "      <td>-0.365255</td>\n",
              "      <td>0.114367</td>\n",
              "      <td>-0.374428</td>\n",
              "      <td>0.112716</td>\n",
              "      <td>0.982313</td>\n",
              "      <td>-0.043415</td>\n",
              "      <td>-0.001769</td>\n",
              "      <td>0.027352</td>\n",
              "      <td>-0.002014</td>\n",
              "      <td>1.000000</td>\n",
              "      <td>0.056267</td>\n",
              "      <td>0.019247</td>\n",
              "      <td>0.212592</td>\n",
              "      <td>NaN</td>\n",
              "      <td>-0.124897</td>\n",
              "      <td>-0.018911</td>\n",
              "      <td>0.263910</td>\n",
              "      <td>0.071632</td>\n",
              "    </tr>\n",
              "    <tr>\n",
              "      <th>1st_Road_Class</th>\n",
              "      <td>-0.059309</td>\n",
              "      <td>0.053008</td>\n",
              "      <td>-0.058011</td>\n",
              "      <td>0.053068</td>\n",
              "      <td>0.046606</td>\n",
              "      <td>-0.000410</td>\n",
              "      <td>-0.147088</td>\n",
              "      <td>-0.088716</td>\n",
              "      <td>0.004594</td>\n",
              "      <td>0.056267</td>\n",
              "      <td>1.000000</td>\n",
              "      <td>-0.083800</td>\n",
              "      <td>-0.380226</td>\n",
              "      <td>NaN</td>\n",
              "      <td>0.098219</td>\n",
              "      <td>-0.030052</td>\n",
              "      <td>-0.213495</td>\n",
              "      <td>0.003845</td>\n",
              "    </tr>\n",
              "    <tr>\n",
              "      <th>1st_Road_Number</th>\n",
              "      <td>-0.099017</td>\n",
              "      <td>0.055043</td>\n",
              "      <td>-0.096585</td>\n",
              "      <td>0.055946</td>\n",
              "      <td>0.007602</td>\n",
              "      <td>-0.007502</td>\n",
              "      <td>-0.008277</td>\n",
              "      <td>0.010817</td>\n",
              "      <td>0.003172</td>\n",
              "      <td>0.019247</td>\n",
              "      <td>-0.083800</td>\n",
              "      <td>1.000000</td>\n",
              "      <td>-0.067390</td>\n",
              "      <td>NaN</td>\n",
              "      <td>0.031523</td>\n",
              "      <td>0.186657</td>\n",
              "      <td>-0.018386</td>\n",
              "      <td>-0.004414</td>\n",
              "    </tr>\n",
              "    <tr>\n",
              "      <th>Speed_limit</th>\n",
              "      <td>-0.069761</td>\n",
              "      <td>0.064186</td>\n",
              "      <td>-0.069084</td>\n",
              "      <td>0.063912</td>\n",
              "      <td>0.204729</td>\n",
              "      <td>-0.073219</td>\n",
              "      <td>0.089665</td>\n",
              "      <td>0.155721</td>\n",
              "      <td>-0.015876</td>\n",
              "      <td>0.212592</td>\n",
              "      <td>-0.380226</td>\n",
              "      <td>-0.067390</td>\n",
              "      <td>1.000000</td>\n",
              "      <td>NaN</td>\n",
              "      <td>-0.336064</td>\n",
              "      <td>-0.047418</td>\n",
              "      <td>0.680879</td>\n",
              "      <td>0.008236</td>\n",
              "    </tr>\n",
              "    <tr>\n",
              "      <th>Junction_Detail</th>\n",
              "      <td>NaN</td>\n",
              "      <td>NaN</td>\n",
              "      <td>NaN</td>\n",
              "      <td>NaN</td>\n",
              "      <td>NaN</td>\n",
              "      <td>NaN</td>\n",
              "      <td>NaN</td>\n",
              "      <td>NaN</td>\n",
              "      <td>NaN</td>\n",
              "      <td>NaN</td>\n",
              "      <td>NaN</td>\n",
              "      <td>NaN</td>\n",
              "      <td>NaN</td>\n",
              "      <td>NaN</td>\n",
              "      <td>NaN</td>\n",
              "      <td>NaN</td>\n",
              "      <td>NaN</td>\n",
              "      <td>NaN</td>\n",
              "    </tr>\n",
              "    <tr>\n",
              "      <th>2nd_Road_Class</th>\n",
              "      <td>0.057491</td>\n",
              "      <td>-0.047574</td>\n",
              "      <td>0.057676</td>\n",
              "      <td>-0.047352</td>\n",
              "      <td>-0.123164</td>\n",
              "      <td>0.059245</td>\n",
              "      <td>0.064620</td>\n",
              "      <td>-0.027573</td>\n",
              "      <td>0.011538</td>\n",
              "      <td>-0.124897</td>\n",
              "      <td>0.098219</td>\n",
              "      <td>0.031523</td>\n",
              "      <td>-0.336064</td>\n",
              "      <td>NaN</td>\n",
              "      <td>1.000000</td>\n",
              "      <td>0.148090</td>\n",
              "      <td>-0.291616</td>\n",
              "      <td>-0.002317</td>\n",
              "    </tr>\n",
              "    <tr>\n",
              "      <th>2nd_Road_Number</th>\n",
              "      <td>-0.024555</td>\n",
              "      <td>0.050909</td>\n",
              "      <td>-0.022418</td>\n",
              "      <td>0.051648</td>\n",
              "      <td>-0.022331</td>\n",
              "      <td>0.022077</td>\n",
              "      <td>0.022293</td>\n",
              "      <td>0.007884</td>\n",
              "      <td>-0.000495</td>\n",
              "      <td>-0.018911</td>\n",
              "      <td>-0.030052</td>\n",
              "      <td>0.186657</td>\n",
              "      <td>-0.047418</td>\n",
              "      <td>NaN</td>\n",
              "      <td>0.148090</td>\n",
              "      <td>1.000000</td>\n",
              "      <td>-0.039443</td>\n",
              "      <td>-0.005371</td>\n",
              "    </tr>\n",
              "    <tr>\n",
              "      <th>Urban_or_Rural_Area</th>\n",
              "      <td>-0.108093</td>\n",
              "      <td>0.063538</td>\n",
              "      <td>-0.106236</td>\n",
              "      <td>0.063078</td>\n",
              "      <td>0.248518</td>\n",
              "      <td>-0.079522</td>\n",
              "      <td>0.044852</td>\n",
              "      <td>0.131478</td>\n",
              "      <td>-0.018107</td>\n",
              "      <td>0.263910</td>\n",
              "      <td>-0.213495</td>\n",
              "      <td>-0.018386</td>\n",
              "      <td>0.680879</td>\n",
              "      <td>NaN</td>\n",
              "      <td>-0.291616</td>\n",
              "      <td>-0.039443</td>\n",
              "      <td>1.000000</td>\n",
              "      <td>0.017433</td>\n",
              "    </tr>\n",
              "    <tr>\n",
              "      <th>Year</th>\n",
              "      <td>0.028422</td>\n",
              "      <td>-0.049919</td>\n",
              "      <td>0.028124</td>\n",
              "      <td>-0.050133</td>\n",
              "      <td>0.070912</td>\n",
              "      <td>0.006445</td>\n",
              "      <td>0.005481</td>\n",
              "      <td>-0.010733</td>\n",
              "      <td>-0.002890</td>\n",
              "      <td>0.071632</td>\n",
              "      <td>0.003845</td>\n",
              "      <td>-0.004414</td>\n",
              "      <td>0.008236</td>\n",
              "      <td>NaN</td>\n",
              "      <td>-0.002317</td>\n",
              "      <td>-0.005371</td>\n",
              "      <td>0.017433</td>\n",
              "      <td>1.000000</td>\n",
              "    </tr>\n",
              "  </tbody>\n",
              "</table>\n",
              "</div>"
            ],
            "text/plain": [
              "                            Location_Easting_OSGR  ...      Year\n",
              "Location_Easting_OSGR                    1.000000  ...  0.028422\n",
              "Location_Northing_OSGR                  -0.443488  ... -0.049919\n",
              "Longitude                                0.999394  ...  0.028124\n",
              "Latitude                                -0.445512  ... -0.050133\n",
              "Police_Force                            -0.341086  ...  0.070912\n",
              "Accident_Severity                        0.033165  ...  0.006445\n",
              "Number_of_Vehicles                       0.014412  ...  0.005481\n",
              "Number_of_Casualties                    -0.045708  ... -0.010733\n",
              "Day_of_Week                             -0.002260  ... -0.002890\n",
              "Local_Authority_(District)              -0.365255  ...  0.071632\n",
              "1st_Road_Class                          -0.059309  ...  0.003845\n",
              "1st_Road_Number                         -0.099017  ... -0.004414\n",
              "Speed_limit                             -0.069761  ...  0.008236\n",
              "Junction_Detail                               NaN  ...       NaN\n",
              "2nd_Road_Class                           0.057491  ... -0.002317\n",
              "2nd_Road_Number                         -0.024555  ... -0.005371\n",
              "Urban_or_Rural_Area                     -0.108093  ...  0.017433\n",
              "Year                                     0.028422  ...  1.000000\n",
              "\n",
              "[18 rows x 18 columns]"
            ]
          },
          "metadata": {
            "tags": []
          },
          "execution_count": 26
        }
      ]
    },
    {
      "cell_type": "code",
      "metadata": {
        "colab": {
          "base_uri": "https://localhost:8080/"
        },
        "id": "WJic9x7kVaZN",
        "outputId": "7476fd15-838f-4fcb-b89a-c6948540eee9"
      },
      "source": [
        "Accidents['Pedestrian_Crossing-Human_Control'].value_counts()"
      ],
      "execution_count": 27,
      "outputs": [
        {
          "output_type": "execute_result",
          "data": {
            "text/plain": [
              "None within 50 metres                 462133\n",
              "Control by other authorised person      1468\n",
              "Control by school crossing patrol       1096\n",
              "Name: Pedestrian_Crossing-Human_Control, dtype: int64"
            ]
          },
          "metadata": {
            "tags": []
          },
          "execution_count": 27
        }
      ]
    },
    {
      "cell_type": "code",
      "metadata": {
        "colab": {
          "base_uri": "https://localhost:8080/"
        },
        "id": "2y_GU1vIVaZN",
        "outputId": "7c716fbe-526d-4d22-d48d-bc128f168950"
      },
      "source": [
        "Accidents['Pedestrian_Crossing-Physical_Facilities'].value_counts()"
      ],
      "execution_count": 28,
      "outputs": [
        {
          "output_type": "execute_result",
          "data": {
            "text/plain": [
              "No physical crossing within 50 meters          377099\n",
              "Pedestrian phase at traffic signal junction     35165\n",
              "non-junction pedestrian crossing                26572\n",
              "Zebra crossing                                  14012\n",
              "Central refuge                                  10369\n",
              "Footbridge or subway                             1480\n",
              "Name: Pedestrian_Crossing-Physical_Facilities, dtype: int64"
            ]
          },
          "metadata": {
            "tags": []
          },
          "execution_count": 28
        }
      ]
    },
    {
      "cell_type": "code",
      "metadata": {
        "colab": {
          "base_uri": "https://localhost:8080/"
        },
        "id": "7C57ug9wVaZO",
        "outputId": "a65e2565-5ccf-4e31-e5ff-a56783a84f9e"
      },
      "source": [
        "Accidents['Accident_Severity'].value_counts()"
      ],
      "execution_count": 29,
      "outputs": [
        {
          "output_type": "execute_result",
          "data": {
            "text/plain": [
              "3    392610\n",
              "2     66784\n",
              "1      5303\n",
              "Name: Accident_Severity, dtype: int64"
            ]
          },
          "metadata": {
            "tags": []
          },
          "execution_count": 29
        }
      ]
    },
    {
      "cell_type": "code",
      "metadata": {
        "colab": {
          "base_uri": "https://localhost:8080/"
        },
        "id": "hxCFrlU-VaZO",
        "outputId": "e94c63ae-3f89-4f9b-950d-490f66b47cf1"
      },
      "source": [
        "Accidents['Number_of_Casualties'].value_counts()"
      ],
      "execution_count": 30,
      "outputs": [
        {
          "output_type": "execute_result",
          "data": {
            "text/plain": [
              "0    361626\n",
              "1    103071\n",
              "Name: Number_of_Casualties, dtype: int64"
            ]
          },
          "metadata": {
            "tags": []
          },
          "execution_count": 30
        }
      ]
    },
    {
      "cell_type": "code",
      "metadata": {
        "colab": {
          "base_uri": "https://localhost:8080/"
        },
        "id": "9gkV9MUbVaZO",
        "outputId": "f2298fc4-1b43-47b0-fb52-b0128f591389"
      },
      "source": [
        "Accidents['Local_Authority_(District)'].value_counts()"
      ],
      "execution_count": 31,
      "outputs": [
        {
          "output_type": "execute_result",
          "data": {
            "text/plain": [
              "300    7289\n",
              "204    6255\n",
              "91     4953\n",
              "1      4738\n",
              "102    4294\n",
              "       ... \n",
              "915     214\n",
              "57      113\n",
              "941      84\n",
              "936      76\n",
              "933      63\n",
              "Name: Local_Authority_(District), Length: 380, dtype: int64"
            ]
          },
          "metadata": {
            "tags": []
          },
          "execution_count": 31
        }
      ]
    },
    {
      "cell_type": "code",
      "metadata": {
        "colab": {
          "base_uri": "https://localhost:8080/"
        },
        "id": "UMK6VBkdVaZO",
        "outputId": "90a6b348-b8cb-4b40-f6c1-d93e8510b478"
      },
      "source": [
        "Accidents['Local_Authority_(Highway)'].value_counts()"
      ],
      "execution_count": 32,
      "outputs": [
        {
          "output_type": "execute_result",
          "data": {
            "text/plain": [
              "E10000016    13033\n",
              "E10000017    12083\n",
              "E10000030    11722\n",
              "E10000012     9477\n",
              "E10000014     8977\n",
              "             ...  \n",
              "EHEATHROW      113\n",
              "S12000013       84\n",
              "S12000027       76\n",
              "S12000023       63\n",
              "E06000053        7\n",
              "Name: Local_Authority_(Highway), Length: 207, dtype: int64"
            ]
          },
          "metadata": {
            "tags": []
          },
          "execution_count": 32
        }
      ]
    },
    {
      "cell_type": "code",
      "metadata": {
        "colab": {
          "base_uri": "https://localhost:8080/"
        },
        "id": "5mzzNYcaVaZP",
        "outputId": "4d1733d3-3b2d-40e1-c261-9899da3fb487"
      },
      "source": [
        "Accidents['Speed_limit'].value_counts()"
      ],
      "execution_count": 33,
      "outputs": [
        {
          "output_type": "execute_result",
          "data": {
            "text/plain": [
              "30    304842\n",
              "60     64465\n",
              "40     37538\n",
              "70     31484\n",
              "50     17312\n",
              "20      9055\n",
              "10         1\n",
              "Name: Speed_limit, dtype: int64"
            ]
          },
          "metadata": {
            "tags": []
          },
          "execution_count": 33
        }
      ]
    },
    {
      "cell_type": "code",
      "metadata": {
        "colab": {
          "base_uri": "https://localhost:8080/"
        },
        "id": "063k_LvTVaZP",
        "outputId": "0634de65-c0db-48fd-a4d7-c580817bd073"
      },
      "source": [
        "Accidents['Location_Easting_OSGR'].value_counts()"
      ],
      "execution_count": 34,
      "outputs": [
        {
          "output_type": "execute_result",
          "data": {
            "text/plain": [
              "533650    157\n",
              "531170    118\n",
              "530990     99\n",
              "533470     96\n",
              "530980     95\n",
              "         ... \n",
              "613562      1\n",
              "304389      1\n",
              "308487      1\n",
              "265488      1\n",
              "524288      1\n",
              "Name: Location_Easting_OSGR, Length: 166377, dtype: int64"
            ]
          },
          "metadata": {
            "tags": []
          },
          "execution_count": 34
        }
      ]
    },
    {
      "cell_type": "code",
      "metadata": {
        "colab": {
          "base_uri": "https://localhost:8080/"
        },
        "id": "BR_La0P5VaZQ",
        "outputId": "a801ff7a-0027-4e4e-df74-f312f1236854"
      },
      "source": [
        "Accidents['Location_Northing_OSGR'].value_counts()"
      ],
      "execution_count": 35,
      "outputs": [
        {
          "output_type": "execute_result",
          "data": {
            "text/plain": [
              "181310    127\n",
              "181170    109\n",
              "180820    107\n",
              "181890     99\n",
              "180750     95\n",
              "         ... \n",
              "441118      1\n",
              "437020      1\n",
              "163872      1\n",
              "430875      1\n",
              "552946      1\n",
              "Name: Location_Northing_OSGR, Length: 185889, dtype: int64"
            ]
          },
          "metadata": {
            "tags": []
          },
          "execution_count": 35
        }
      ]
    },
    {
      "cell_type": "code",
      "metadata": {
        "colab": {
          "base_uri": "https://localhost:8080/"
        },
        "id": "qdXhDJ4aVaZQ",
        "outputId": "b8526b91-8788-4ca8-eea3-4d5789b0a227"
      },
      "source": [
        "Accidents['Longitude'].value_counts()"
      ],
      "execution_count": 36,
      "outputs": [
        {
          "output_type": "execute_result",
          "data": {
            "text/plain": [
              "-0.104426    32\n",
              "-0.120956    19\n",
              "-0.217197    17\n",
              "-0.163926    17\n",
              "-0.066819    16\n",
              "             ..\n",
              "-1.557174     1\n",
              "-0.843067     1\n",
              "-1.074777     1\n",
              " 0.179048     1\n",
              "-1.628682     1\n",
              "Name: Longitude, Length: 384094, dtype: int64"
            ]
          },
          "metadata": {
            "tags": []
          },
          "execution_count": 36
        }
      ]
    },
    {
      "cell_type": "code",
      "metadata": {
        "colab": {
          "base_uri": "https://localhost:8080/"
        },
        "id": "4KrQXeoLVaZR",
        "outputId": "9f2875d6-3abe-4854-d8f5-49586cd5e255"
      },
      "source": [
        "Accidents['Police_Force'].value_counts()"
      ],
      "execution_count": 37,
      "outputs": [
        {
          "output_type": "execute_result",
          "data": {
            "text/plain": [
              "1     82701\n",
              "13    16951\n",
              "6     16621\n",
              "43    16037\n",
              "20    15556\n",
              "4     15512\n",
              "46    14929\n",
              "44    13743\n",
              "10    12698\n",
              "47    12153\n",
              "42    11908\n",
              "50    11904\n",
              "45    11722\n",
              "5     11586\n",
              "97    11040\n",
              "7     10882\n",
              "52     9962\n",
              "14     9315\n",
              "21     8461\n",
              "31     8376\n",
              "12     8261\n",
              "16     7854\n",
              "41     7596\n",
              "33     7335\n",
              "30     7211\n",
              "22     7151\n",
              "62     6956\n",
              "32     6796\n",
              "95     6452\n",
              "35     6435\n",
              "55     5461\n",
              "36     5428\n",
              "37     5247\n",
              "3      5113\n",
              "11     4918\n",
              "23     4620\n",
              "54     4496\n",
              "60     4395\n",
              "40     4357\n",
              "63     3892\n",
              "34     3705\n",
              "17     2829\n",
              "92     2747\n",
              "53     2651\n",
              "61     2499\n",
              "93     1892\n",
              "96     1580\n",
              "91     1552\n",
              "94     1253\n",
              "48     1033\n",
              "98      925\n",
              "Name: Police_Force, dtype: int64"
            ]
          },
          "metadata": {
            "tags": []
          },
          "execution_count": 37
        }
      ]
    },
    {
      "cell_type": "code",
      "metadata": {
        "colab": {
          "base_uri": "https://localhost:8080/"
        },
        "id": "Orzp901bVaZR",
        "outputId": "17965f3e-9fbb-4633-b199-a1a2b65c7316"
      },
      "source": [
        "Accidents['Day_of_Week'].value_counts()"
      ],
      "execution_count": 38,
      "outputs": [
        {
          "output_type": "execute_result",
          "data": {
            "text/plain": [
              "6    76054\n",
              "5    70644\n",
              "3    70316\n",
              "4    69835\n",
              "2    66725\n",
              "7    60819\n",
              "1    50304\n",
              "Name: Day_of_Week, dtype: int64"
            ]
          },
          "metadata": {
            "tags": []
          },
          "execution_count": 38
        }
      ]
    },
    {
      "cell_type": "code",
      "metadata": {
        "colab": {
          "base_uri": "https://localhost:8080/"
        },
        "id": "adyR74w4VaZR",
        "outputId": "a8b8456d-efc0-4f49-f415-0d121a1ad5e1"
      },
      "source": [
        "Accidents['Time'].value_counts()"
      ],
      "execution_count": 39,
      "outputs": [
        {
          "output_type": "execute_result",
          "data": {
            "text/plain": [
              "17:00    4622\n",
              "17:30    4403\n",
              "18:00    4173\n",
              "16:00    4112\n",
              "15:30    4018\n",
              "         ... \n",
              "04:26      13\n",
              "04:53      11\n",
              "03:13      10\n",
              "04:18      10\n",
              "04:34      10\n",
              "Name: Time, Length: 1439, dtype: int64"
            ]
          },
          "metadata": {
            "tags": []
          },
          "execution_count": 39
        }
      ]
    },
    {
      "cell_type": "code",
      "metadata": {
        "colab": {
          "base_uri": "https://localhost:8080/"
        },
        "id": "vgsInXKFVaZS",
        "outputId": "c26b7ffb-d0a4-4f87-b3ba-83d8d3f5aca4"
      },
      "source": [
        "Accidents['1st_Road_Class'].value_counts()"
      ],
      "execution_count": 40,
      "outputs": [
        {
          "output_type": "execute_result",
          "data": {
            "text/plain": [
              "3    216232\n",
              "6    129695\n",
              "4     59071\n",
              "5     41796\n",
              "1     16556\n",
              "2      1347\n",
              "Name: 1st_Road_Class, dtype: int64"
            ]
          },
          "metadata": {
            "tags": []
          },
          "execution_count": 40
        }
      ]
    },
    {
      "cell_type": "code",
      "metadata": {
        "colab": {
          "base_uri": "https://localhost:8080/"
        },
        "id": "epb5lrF-VaZS",
        "outputId": "0b962074-3cac-44b4-d4d0-214ec2c55946"
      },
      "source": [
        "Accidents['1st_Road_Number'].value_counts()"
      ],
      "execution_count": 41,
      "outputs": [
        {
          "output_type": "execute_result",
          "data": {
            "text/plain": [
              "0       122749\n",
              "1         5525\n",
              "6         5095\n",
              "4         4374\n",
              "3         2905\n",
              "         ...  \n",
              "4648         1\n",
              "8086         1\n",
              "9106         1\n",
              "7978         1\n",
              "3715         1\n",
              "Name: 1st_Road_Number, Length: 5321, dtype: int64"
            ]
          },
          "metadata": {
            "tags": []
          },
          "execution_count": 41
        }
      ]
    },
    {
      "cell_type": "code",
      "metadata": {
        "colab": {
          "base_uri": "https://localhost:8080/"
        },
        "id": "GBhs5QyvVaZT",
        "outputId": "17d0e88a-2341-4318-fbea-02cdb260e240"
      },
      "source": [
        "Accidents['Road_Type'].value_counts()"
      ],
      "execution_count": 42,
      "outputs": [
        {
          "output_type": "execute_result",
          "data": {
            "text/plain": [
              "Single carriageway    351268\n",
              "Dual carriageway       65998\n",
              "Roundabout             31852\n",
              "One way street          9074\n",
              "Slip road               4827\n",
              "Unknown                 1678\n",
              "Name: Road_Type, dtype: int64"
            ]
          },
          "metadata": {
            "tags": []
          },
          "execution_count": 42
        }
      ]
    },
    {
      "cell_type": "code",
      "metadata": {
        "colab": {
          "base_uri": "https://localhost:8080/"
        },
        "id": "X33KMDwOVaZT",
        "outputId": "0683e6a5-7fa3-42b9-f932-c89b229f5618"
      },
      "source": [
        "Accidents['Light_Conditions'].value_counts()"
      ],
      "execution_count": 43,
      "outputs": [
        {
          "output_type": "execute_result",
          "data": {
            "text/plain": [
              "Daylight: Street light present               341124\n",
              "Darkness: Street lights present and lit       91158\n",
              "Darkeness: No street lighting                 22999\n",
              "Darkness: Street lighting unknown              6853\n",
              "Darkness: Street lights present but unlit      2563\n",
              "Name: Light_Conditions, dtype: int64"
            ]
          },
          "metadata": {
            "tags": []
          },
          "execution_count": 43
        }
      ]
    },
    {
      "cell_type": "code",
      "metadata": {
        "colab": {
          "base_uri": "https://localhost:8080/"
        },
        "id": "c-m_m-ebVaZT",
        "outputId": "28d1d7b9-204b-4c94-9464-00c833f90628"
      },
      "source": [
        "Accidents['Weather_Conditions'].value_counts()"
      ],
      "execution_count": 44,
      "outputs": [
        {
          "output_type": "execute_result",
          "data": {
            "text/plain": [
              "Fine without high winds       373167\n",
              "Raining without high winds     57060\n",
              "Other                           8272\n",
              "Unknown                         8215\n",
              "Raining with high winds         7120\n",
              "Fine with high winds            5011\n",
              "Snowing without high winds      2708\n",
              "Fog or mist                     2411\n",
              "Snowing with high winds          733\n",
              "Name: Weather_Conditions, dtype: int64"
            ]
          },
          "metadata": {
            "tags": []
          },
          "execution_count": 44
        }
      ]
    },
    {
      "cell_type": "code",
      "metadata": {
        "colab": {
          "base_uri": "https://localhost:8080/"
        },
        "id": "gquDAWDHVaZU",
        "outputId": "10188a37-8ec7-4e99-8d2b-e90a6e03f23e"
      },
      "source": [
        "Accidents['Road_Surface_Conditions'].value_counts()"
      ],
      "execution_count": 45,
      "outputs": [
        {
          "output_type": "execute_result",
          "data": {
            "text/plain": [
              "Dry                          320125\n",
              "Wet/Damp                     132745\n",
              "Frost/Ice                      8140\n",
              "Snow                           2824\n",
              "Flood (Over 3cm of water)       863\n",
              "Name: Road_Surface_Conditions, dtype: int64"
            ]
          },
          "metadata": {
            "tags": []
          },
          "execution_count": 45
        }
      ]
    },
    {
      "cell_type": "code",
      "metadata": {
        "colab": {
          "base_uri": "https://localhost:8080/"
        },
        "id": "RmcnHL3EVaZU",
        "outputId": "f1d6f6ef-f651-4095-a725-d038d03c9704"
      },
      "source": [
        "Accidents['Special_Conditions_at_Site'].value_counts()"
      ],
      "execution_count": 46,
      "outputs": [
        {
          "output_type": "execute_result",
          "data": {
            "text/plain": [
              "None                                               454387\n",
              "Roadworks                                            4742\n",
              "Mud                                                  1413\n",
              "Ol or diesel                                         1406\n",
              "Road surface defective                               1144\n",
              "Auto traffic singal out                               758\n",
              "Permanent sign or marking defective or obscured       625\n",
              "Auto traffic signal partly defective                  222\n",
              "Name: Special_Conditions_at_Site, dtype: int64"
            ]
          },
          "metadata": {
            "tags": []
          },
          "execution_count": 46
        }
      ]
    },
    {
      "cell_type": "code",
      "metadata": {
        "colab": {
          "base_uri": "https://localhost:8080/"
        },
        "id": "wQoiPN5VVaZU",
        "outputId": "73a040a6-e96f-4d28-ce8d-7a81fd1e7bd3"
      },
      "source": [
        "Accidents['Carriageway_Hazards'].value_counts()"
      ],
      "execution_count": 47,
      "outputs": [
        {
          "output_type": "execute_result",
          "data": {
            "text/plain": [
              "None                                       456850\n",
              "Other object in carriageway                  3148\n",
              "Any animal (except a ridden horse)           2340\n",
              "Pedestrian in carriageway (not injured)      1274\n",
              "Involvement with previous accident            617\n",
              "Dislodged vehicle load in carriageway         468\n",
              "Name: Carriageway_Hazards, dtype: int64"
            ]
          },
          "metadata": {
            "tags": []
          },
          "execution_count": 47
        }
      ]
    },
    {
      "cell_type": "code",
      "metadata": {
        "colab": {
          "base_uri": "https://localhost:8080/"
        },
        "id": "fPYmhxZbVaZV",
        "outputId": "2848d272-0013-42ce-c86a-6aa3697fe6b2"
      },
      "source": [
        "Accidents['Urban_or_Rural_Area'].value_counts()"
      ],
      "execution_count": 48,
      "outputs": [
        {
          "output_type": "execute_result",
          "data": {
            "text/plain": [
              "1    307896\n",
              "2    156801\n",
              "Name: Urban_or_Rural_Area, dtype: int64"
            ]
          },
          "metadata": {
            "tags": []
          },
          "execution_count": 48
        }
      ]
    },
    {
      "cell_type": "code",
      "metadata": {
        "colab": {
          "base_uri": "https://localhost:8080/",
          "height": 694
        },
        "id": "fSDGOWjmVaZW",
        "outputId": "267b21fe-f964-4ef2-98b8-889ea81df19f"
      },
      "source": [
        "df = Accidents.iloc[:, [5,6,7,10,11,14,15,16,17,22,23,24,25,26,27,28,29,30]]\n",
        "df"
      ],
      "execution_count": 49,
      "outputs": [
        {
          "output_type": "execute_result",
          "data": {
            "text/html": [
              "<div>\n",
              "<style scoped>\n",
              "    .dataframe tbody tr th:only-of-type {\n",
              "        vertical-align: middle;\n",
              "    }\n",
              "\n",
              "    .dataframe tbody tr th {\n",
              "        vertical-align: top;\n",
              "    }\n",
              "\n",
              "    .dataframe thead th {\n",
              "        text-align: right;\n",
              "    }\n",
              "</style>\n",
              "<table border=\"1\" class=\"dataframe\">\n",
              "  <thead>\n",
              "    <tr style=\"text-align: right;\">\n",
              "      <th></th>\n",
              "      <th>Police_Force</th>\n",
              "      <th>Accident_Severity</th>\n",
              "      <th>Number_of_Vehicles</th>\n",
              "      <th>Day_of_Week</th>\n",
              "      <th>Time</th>\n",
              "      <th>1st_Road_Class</th>\n",
              "      <th>1st_Road_Number</th>\n",
              "      <th>Road_Type</th>\n",
              "      <th>Speed_limit</th>\n",
              "      <th>Pedestrian_Crossing-Human_Control</th>\n",
              "      <th>Pedestrian_Crossing-Physical_Facilities</th>\n",
              "      <th>Light_Conditions</th>\n",
              "      <th>Weather_Conditions</th>\n",
              "      <th>Road_Surface_Conditions</th>\n",
              "      <th>Special_Conditions_at_Site</th>\n",
              "      <th>Carriageway_Hazards</th>\n",
              "      <th>Urban_or_Rural_Area</th>\n",
              "      <th>Did_Police_Officer_Attend_Scene_of_Accident</th>\n",
              "    </tr>\n",
              "  </thead>\n",
              "  <tbody>\n",
              "    <tr>\n",
              "      <th>0</th>\n",
              "      <td>1</td>\n",
              "      <td>3</td>\n",
              "      <td>2</td>\n",
              "      <td>5</td>\n",
              "      <td>20:35</td>\n",
              "      <td>3</td>\n",
              "      <td>308</td>\n",
              "      <td>Single carriageway</td>\n",
              "      <td>30</td>\n",
              "      <td>None within 50 metres</td>\n",
              "      <td>Pedestrian phase at traffic signal junction</td>\n",
              "      <td>Darkness: Street lights present and lit</td>\n",
              "      <td>Fine without high winds</td>\n",
              "      <td>Dry</td>\n",
              "      <td>None</td>\n",
              "      <td>None</td>\n",
              "      <td>1</td>\n",
              "      <td>Yes</td>\n",
              "    </tr>\n",
              "    <tr>\n",
              "      <th>1</th>\n",
              "      <td>1</td>\n",
              "      <td>3</td>\n",
              "      <td>2</td>\n",
              "      <td>4</td>\n",
              "      <td>17:00</td>\n",
              "      <td>4</td>\n",
              "      <td>412</td>\n",
              "      <td>Single carriageway</td>\n",
              "      <td>30</td>\n",
              "      <td>None within 50 metres</td>\n",
              "      <td>No physical crossing within 50 meters</td>\n",
              "      <td>Darkness: Street lights present and lit</td>\n",
              "      <td>Fine without high winds</td>\n",
              "      <td>Dry</td>\n",
              "      <td>None</td>\n",
              "      <td>None</td>\n",
              "      <td>1</td>\n",
              "      <td>Yes</td>\n",
              "    </tr>\n",
              "    <tr>\n",
              "      <th>2</th>\n",
              "      <td>1</td>\n",
              "      <td>3</td>\n",
              "      <td>2</td>\n",
              "      <td>3</td>\n",
              "      <td>10:07</td>\n",
              "      <td>3</td>\n",
              "      <td>3220</td>\n",
              "      <td>One way street</td>\n",
              "      <td>30</td>\n",
              "      <td>None within 50 metres</td>\n",
              "      <td>non-junction pedestrian crossing</td>\n",
              "      <td>Daylight: Street light present</td>\n",
              "      <td>Fine without high winds</td>\n",
              "      <td>Dry</td>\n",
              "      <td>None</td>\n",
              "      <td>None</td>\n",
              "      <td>1</td>\n",
              "      <td>Yes</td>\n",
              "    </tr>\n",
              "    <tr>\n",
              "      <th>3</th>\n",
              "      <td>1</td>\n",
              "      <td>3</td>\n",
              "      <td>1</td>\n",
              "      <td>4</td>\n",
              "      <td>12:20</td>\n",
              "      <td>5</td>\n",
              "      <td>0</td>\n",
              "      <td>Single carriageway</td>\n",
              "      <td>30</td>\n",
              "      <td>None within 50 metres</td>\n",
              "      <td>No physical crossing within 50 meters</td>\n",
              "      <td>Daylight: Street light present</td>\n",
              "      <td>Fine without high winds</td>\n",
              "      <td>Dry</td>\n",
              "      <td>None</td>\n",
              "      <td>None</td>\n",
              "      <td>1</td>\n",
              "      <td>Yes</td>\n",
              "    </tr>\n",
              "    <tr>\n",
              "      <th>4</th>\n",
              "      <td>1</td>\n",
              "      <td>3</td>\n",
              "      <td>1</td>\n",
              "      <td>3</td>\n",
              "      <td>20:24</td>\n",
              "      <td>4</td>\n",
              "      <td>325</td>\n",
              "      <td>Single carriageway</td>\n",
              "      <td>30</td>\n",
              "      <td>None within 50 metres</td>\n",
              "      <td>No physical crossing within 50 meters</td>\n",
              "      <td>Darkness: Street lights present and lit</td>\n",
              "      <td>Fine without high winds</td>\n",
              "      <td>Dry</td>\n",
              "      <td>None</td>\n",
              "      <td>None</td>\n",
              "      <td>1</td>\n",
              "      <td>Yes</td>\n",
              "    </tr>\n",
              "    <tr>\n",
              "      <th>...</th>\n",
              "      <td>...</td>\n",
              "      <td>...</td>\n",
              "      <td>...</td>\n",
              "      <td>...</td>\n",
              "      <td>...</td>\n",
              "      <td>...</td>\n",
              "      <td>...</td>\n",
              "      <td>...</td>\n",
              "      <td>...</td>\n",
              "      <td>...</td>\n",
              "      <td>...</td>\n",
              "      <td>...</td>\n",
              "      <td>...</td>\n",
              "      <td>...</td>\n",
              "      <td>...</td>\n",
              "      <td>...</td>\n",
              "      <td>...</td>\n",
              "      <td>...</td>\n",
              "    </tr>\n",
              "    <tr>\n",
              "      <th>464692</th>\n",
              "      <td>98</td>\n",
              "      <td>2</td>\n",
              "      <td>2</td>\n",
              "      <td>1</td>\n",
              "      <td>22:20</td>\n",
              "      <td>2</td>\n",
              "      <td>74</td>\n",
              "      <td>Dual carriageway</td>\n",
              "      <td>70</td>\n",
              "      <td>None within 50 metres</td>\n",
              "      <td>No physical crossing within 50 meters</td>\n",
              "      <td>Darkeness: No street lighting</td>\n",
              "      <td>Snowing without high winds</td>\n",
              "      <td>Snow</td>\n",
              "      <td>None</td>\n",
              "      <td>None</td>\n",
              "      <td>2</td>\n",
              "      <td>Yes</td>\n",
              "    </tr>\n",
              "    <tr>\n",
              "      <th>464693</th>\n",
              "      <td>98</td>\n",
              "      <td>3</td>\n",
              "      <td>2</td>\n",
              "      <td>5</td>\n",
              "      <td>06:40</td>\n",
              "      <td>2</td>\n",
              "      <td>74</td>\n",
              "      <td>Dual carriageway</td>\n",
              "      <td>70</td>\n",
              "      <td>None within 50 metres</td>\n",
              "      <td>No physical crossing within 50 meters</td>\n",
              "      <td>Darkeness: No street lighting</td>\n",
              "      <td>Fine without high winds</td>\n",
              "      <td>Snow</td>\n",
              "      <td>None</td>\n",
              "      <td>None</td>\n",
              "      <td>2</td>\n",
              "      <td>Yes</td>\n",
              "    </tr>\n",
              "    <tr>\n",
              "      <th>464694</th>\n",
              "      <td>98</td>\n",
              "      <td>3</td>\n",
              "      <td>1</td>\n",
              "      <td>3</td>\n",
              "      <td>02:00</td>\n",
              "      <td>4</td>\n",
              "      <td>721</td>\n",
              "      <td>Single carriageway</td>\n",
              "      <td>40</td>\n",
              "      <td>None within 50 metres</td>\n",
              "      <td>No physical crossing within 50 meters</td>\n",
              "      <td>Darkness: Street lights present and lit</td>\n",
              "      <td>Fine without high winds</td>\n",
              "      <td>Frost/Ice</td>\n",
              "      <td>None</td>\n",
              "      <td>None</td>\n",
              "      <td>2</td>\n",
              "      <td>Yes</td>\n",
              "    </tr>\n",
              "    <tr>\n",
              "      <th>464695</th>\n",
              "      <td>98</td>\n",
              "      <td>2</td>\n",
              "      <td>3</td>\n",
              "      <td>4</td>\n",
              "      <td>06:55</td>\n",
              "      <td>3</td>\n",
              "      <td>75</td>\n",
              "      <td>Single carriageway</td>\n",
              "      <td>60</td>\n",
              "      <td>None within 50 metres</td>\n",
              "      <td>No physical crossing within 50 meters</td>\n",
              "      <td>Darkeness: No street lighting</td>\n",
              "      <td>Raining without high winds</td>\n",
              "      <td>Wet/Damp</td>\n",
              "      <td>None</td>\n",
              "      <td>None</td>\n",
              "      <td>2</td>\n",
              "      <td>Yes</td>\n",
              "    </tr>\n",
              "    <tr>\n",
              "      <th>464696</th>\n",
              "      <td>98</td>\n",
              "      <td>3</td>\n",
              "      <td>2</td>\n",
              "      <td>4</td>\n",
              "      <td>15:00</td>\n",
              "      <td>4</td>\n",
              "      <td>723</td>\n",
              "      <td>Single carriageway</td>\n",
              "      <td>60</td>\n",
              "      <td>None within 50 metres</td>\n",
              "      <td>No physical crossing within 50 meters</td>\n",
              "      <td>Daylight: Street light present</td>\n",
              "      <td>Fine without high winds</td>\n",
              "      <td>Wet/Damp</td>\n",
              "      <td>None</td>\n",
              "      <td>None</td>\n",
              "      <td>2</td>\n",
              "      <td>Yes</td>\n",
              "    </tr>\n",
              "  </tbody>\n",
              "</table>\n",
              "<p>464697 rows × 18 columns</p>\n",
              "</div>"
            ],
            "text/plain": [
              "        Police_Force  ...  Did_Police_Officer_Attend_Scene_of_Accident\n",
              "0                  1  ...                                          Yes\n",
              "1                  1  ...                                          Yes\n",
              "2                  1  ...                                          Yes\n",
              "3                  1  ...                                          Yes\n",
              "4                  1  ...                                          Yes\n",
              "...              ...  ...                                          ...\n",
              "464692            98  ...                                          Yes\n",
              "464693            98  ...                                          Yes\n",
              "464694            98  ...                                          Yes\n",
              "464695            98  ...                                          Yes\n",
              "464696            98  ...                                          Yes\n",
              "\n",
              "[464697 rows x 18 columns]"
            ]
          },
          "metadata": {
            "tags": []
          },
          "execution_count": 49
        }
      ]
    },
    {
      "cell_type": "code",
      "metadata": {
        "colab": {
          "base_uri": "https://localhost:8080/"
        },
        "id": "wzlL3R9JVaZW",
        "outputId": "cc556daa-b680-4801-ffa7-a904270bcf58"
      },
      "source": [
        "df.columns"
      ],
      "execution_count": 50,
      "outputs": [
        {
          "output_type": "execute_result",
          "data": {
            "text/plain": [
              "Index(['Police_Force', 'Accident_Severity', 'Number_of_Vehicles',\n",
              "       'Day_of_Week', 'Time', '1st_Road_Class', '1st_Road_Number', 'Road_Type',\n",
              "       'Speed_limit', 'Pedestrian_Crossing-Human_Control',\n",
              "       'Pedestrian_Crossing-Physical_Facilities', 'Light_Conditions',\n",
              "       'Weather_Conditions', 'Road_Surface_Conditions',\n",
              "       'Special_Conditions_at_Site', 'Carriageway_Hazards',\n",
              "       'Urban_or_Rural_Area', 'Did_Police_Officer_Attend_Scene_of_Accident'],\n",
              "      dtype='object')"
            ]
          },
          "metadata": {
            "tags": []
          },
          "execution_count": 50
        }
      ]
    },
    {
      "cell_type": "code",
      "metadata": {
        "colab": {
          "base_uri": "https://localhost:8080/",
          "height": 524
        },
        "id": "-gjJWzHXVaZW",
        "outputId": "1946aada-ace0-45b9-80f3-540dface821e"
      },
      "source": [
        "pchuman_control = pd.get_dummies(df['Pedestrian_Crossing-Human_Control'],drop_first=True)\n",
        "pcphysical_facilities = pd.get_dummies(df['Pedestrian_Crossing-Physical_Facilities'],drop_first=True)\n",
        "light_conditions = pd.get_dummies(df['Light_Conditions'],drop_first=True)\n",
        "weather_conditions = pd.get_dummies(df['Weather_Conditions'],drop_first=True)\n",
        "road_surface_conditions = pd.get_dummies(df['Road_Surface_Conditions'],drop_first=True)\n",
        "Special_Conditions_at_Site = pd.get_dummies(df['Special_Conditions_at_Site'],drop_first=True)\n",
        "Carriageway_Hazards = pd.get_dummies(df['Carriageway_Hazards'],drop_first=True)\n",
        "Did_Police_Officer_Attend_Scene_of_Accident = pd.get_dummies(df['Did_Police_Officer_Attend_Scene_of_Accident'],drop_first=True)\n",
        "Road_Type = pd.get_dummies(df['Road_Type'],drop_first=True)\n",
        "Time = pd.get_dummies(df['Time'],drop_first=True)\n",
        "\n",
        "df.drop(['Pedestrian_Crossing-Human_Control','Time','Pedestrian_Crossing-Physical_Facilities','Light_Conditions','Weather_Conditions', 'Road_Surface_Conditions', 'Special_Conditions_at_Site', 'Carriageway_Hazards', 'Did_Police_Officer_Attend_Scene_of_Accident', 'Road_Type'],axis=1,inplace=True)\n",
        "df"
      ],
      "execution_count": 51,
      "outputs": [
        {
          "output_type": "stream",
          "text": [
            "/usr/local/lib/python3.7/dist-packages/pandas/core/frame.py:4174: SettingWithCopyWarning: \n",
            "A value is trying to be set on a copy of a slice from a DataFrame\n",
            "\n",
            "See the caveats in the documentation: https://pandas.pydata.org/pandas-docs/stable/user_guide/indexing.html#returning-a-view-versus-a-copy\n",
            "  errors=errors,\n"
          ],
          "name": "stderr"
        },
        {
          "output_type": "execute_result",
          "data": {
            "text/html": [
              "<div>\n",
              "<style scoped>\n",
              "    .dataframe tbody tr th:only-of-type {\n",
              "        vertical-align: middle;\n",
              "    }\n",
              "\n",
              "    .dataframe tbody tr th {\n",
              "        vertical-align: top;\n",
              "    }\n",
              "\n",
              "    .dataframe thead th {\n",
              "        text-align: right;\n",
              "    }\n",
              "</style>\n",
              "<table border=\"1\" class=\"dataframe\">\n",
              "  <thead>\n",
              "    <tr style=\"text-align: right;\">\n",
              "      <th></th>\n",
              "      <th>Police_Force</th>\n",
              "      <th>Accident_Severity</th>\n",
              "      <th>Number_of_Vehicles</th>\n",
              "      <th>Day_of_Week</th>\n",
              "      <th>1st_Road_Class</th>\n",
              "      <th>1st_Road_Number</th>\n",
              "      <th>Speed_limit</th>\n",
              "      <th>Urban_or_Rural_Area</th>\n",
              "    </tr>\n",
              "  </thead>\n",
              "  <tbody>\n",
              "    <tr>\n",
              "      <th>0</th>\n",
              "      <td>1</td>\n",
              "      <td>3</td>\n",
              "      <td>2</td>\n",
              "      <td>5</td>\n",
              "      <td>3</td>\n",
              "      <td>308</td>\n",
              "      <td>30</td>\n",
              "      <td>1</td>\n",
              "    </tr>\n",
              "    <tr>\n",
              "      <th>1</th>\n",
              "      <td>1</td>\n",
              "      <td>3</td>\n",
              "      <td>2</td>\n",
              "      <td>4</td>\n",
              "      <td>4</td>\n",
              "      <td>412</td>\n",
              "      <td>30</td>\n",
              "      <td>1</td>\n",
              "    </tr>\n",
              "    <tr>\n",
              "      <th>2</th>\n",
              "      <td>1</td>\n",
              "      <td>3</td>\n",
              "      <td>2</td>\n",
              "      <td>3</td>\n",
              "      <td>3</td>\n",
              "      <td>3220</td>\n",
              "      <td>30</td>\n",
              "      <td>1</td>\n",
              "    </tr>\n",
              "    <tr>\n",
              "      <th>3</th>\n",
              "      <td>1</td>\n",
              "      <td>3</td>\n",
              "      <td>1</td>\n",
              "      <td>4</td>\n",
              "      <td>5</td>\n",
              "      <td>0</td>\n",
              "      <td>30</td>\n",
              "      <td>1</td>\n",
              "    </tr>\n",
              "    <tr>\n",
              "      <th>4</th>\n",
              "      <td>1</td>\n",
              "      <td>3</td>\n",
              "      <td>1</td>\n",
              "      <td>3</td>\n",
              "      <td>4</td>\n",
              "      <td>325</td>\n",
              "      <td>30</td>\n",
              "      <td>1</td>\n",
              "    </tr>\n",
              "    <tr>\n",
              "      <th>...</th>\n",
              "      <td>...</td>\n",
              "      <td>...</td>\n",
              "      <td>...</td>\n",
              "      <td>...</td>\n",
              "      <td>...</td>\n",
              "      <td>...</td>\n",
              "      <td>...</td>\n",
              "      <td>...</td>\n",
              "    </tr>\n",
              "    <tr>\n",
              "      <th>464692</th>\n",
              "      <td>98</td>\n",
              "      <td>2</td>\n",
              "      <td>2</td>\n",
              "      <td>1</td>\n",
              "      <td>2</td>\n",
              "      <td>74</td>\n",
              "      <td>70</td>\n",
              "      <td>2</td>\n",
              "    </tr>\n",
              "    <tr>\n",
              "      <th>464693</th>\n",
              "      <td>98</td>\n",
              "      <td>3</td>\n",
              "      <td>2</td>\n",
              "      <td>5</td>\n",
              "      <td>2</td>\n",
              "      <td>74</td>\n",
              "      <td>70</td>\n",
              "      <td>2</td>\n",
              "    </tr>\n",
              "    <tr>\n",
              "      <th>464694</th>\n",
              "      <td>98</td>\n",
              "      <td>3</td>\n",
              "      <td>1</td>\n",
              "      <td>3</td>\n",
              "      <td>4</td>\n",
              "      <td>721</td>\n",
              "      <td>40</td>\n",
              "      <td>2</td>\n",
              "    </tr>\n",
              "    <tr>\n",
              "      <th>464695</th>\n",
              "      <td>98</td>\n",
              "      <td>2</td>\n",
              "      <td>3</td>\n",
              "      <td>4</td>\n",
              "      <td>3</td>\n",
              "      <td>75</td>\n",
              "      <td>60</td>\n",
              "      <td>2</td>\n",
              "    </tr>\n",
              "    <tr>\n",
              "      <th>464696</th>\n",
              "      <td>98</td>\n",
              "      <td>3</td>\n",
              "      <td>2</td>\n",
              "      <td>4</td>\n",
              "      <td>4</td>\n",
              "      <td>723</td>\n",
              "      <td>60</td>\n",
              "      <td>2</td>\n",
              "    </tr>\n",
              "  </tbody>\n",
              "</table>\n",
              "<p>464697 rows × 8 columns</p>\n",
              "</div>"
            ],
            "text/plain": [
              "        Police_Force  Accident_Severity  ...  Speed_limit  Urban_or_Rural_Area\n",
              "0                  1                  3  ...           30                    1\n",
              "1                  1                  3  ...           30                    1\n",
              "2                  1                  3  ...           30                    1\n",
              "3                  1                  3  ...           30                    1\n",
              "4                  1                  3  ...           30                    1\n",
              "...              ...                ...  ...          ...                  ...\n",
              "464692            98                  2  ...           70                    2\n",
              "464693            98                  3  ...           70                    2\n",
              "464694            98                  3  ...           40                    2\n",
              "464695            98                  2  ...           60                    2\n",
              "464696            98                  3  ...           60                    2\n",
              "\n",
              "[464697 rows x 8 columns]"
            ]
          },
          "metadata": {
            "tags": []
          },
          "execution_count": 51
        }
      ]
    },
    {
      "cell_type": "code",
      "metadata": {
        "colab": {
          "base_uri": "https://localhost:8080/",
          "height": 524
        },
        "id": "EMHuPrnOVaZX",
        "outputId": "f40b734b-5d7e-46ac-8985-6b3d186780ce"
      },
      "source": [
        "df = pd.concat([df, pchuman_control, pcphysical_facilities, light_conditions, weather_conditions, road_surface_conditions, Special_Conditions_at_Site, Carriageway_Hazards, Did_Police_Officer_Attend_Scene_of_Accident, Road_Type],axis=1)\n",
        "df"
      ],
      "execution_count": 52,
      "outputs": [
        {
          "output_type": "execute_result",
          "data": {
            "text/html": [
              "<div>\n",
              "<style scoped>\n",
              "    .dataframe tbody tr th:only-of-type {\n",
              "        vertical-align: middle;\n",
              "    }\n",
              "\n",
              "    .dataframe tbody tr th {\n",
              "        vertical-align: top;\n",
              "    }\n",
              "\n",
              "    .dataframe thead th {\n",
              "        text-align: right;\n",
              "    }\n",
              "</style>\n",
              "<table border=\"1\" class=\"dataframe\">\n",
              "  <thead>\n",
              "    <tr style=\"text-align: right;\">\n",
              "      <th></th>\n",
              "      <th>Police_Force</th>\n",
              "      <th>Accident_Severity</th>\n",
              "      <th>Number_of_Vehicles</th>\n",
              "      <th>Day_of_Week</th>\n",
              "      <th>1st_Road_Class</th>\n",
              "      <th>1st_Road_Number</th>\n",
              "      <th>Speed_limit</th>\n",
              "      <th>Urban_or_Rural_Area</th>\n",
              "      <th>Control by school crossing patrol</th>\n",
              "      <th>None within 50 metres</th>\n",
              "      <th>Footbridge or subway</th>\n",
              "      <th>No physical crossing within 50 meters</th>\n",
              "      <th>Pedestrian phase at traffic signal junction</th>\n",
              "      <th>Zebra crossing</th>\n",
              "      <th>non-junction pedestrian crossing</th>\n",
              "      <th>Darkness: Street lighting unknown</th>\n",
              "      <th>Darkness: Street lights present and lit</th>\n",
              "      <th>Darkness: Street lights present but unlit</th>\n",
              "      <th>Daylight: Street light present</th>\n",
              "      <th>Fine without high winds</th>\n",
              "      <th>Fog or mist</th>\n",
              "      <th>Other</th>\n",
              "      <th>Raining with high winds</th>\n",
              "      <th>Raining without high winds</th>\n",
              "      <th>Snowing with high winds</th>\n",
              "      <th>Snowing without high winds</th>\n",
              "      <th>Unknown</th>\n",
              "      <th>Flood (Over 3cm of water)</th>\n",
              "      <th>Frost/Ice</th>\n",
              "      <th>Snow</th>\n",
              "      <th>Wet/Damp</th>\n",
              "      <th>Auto traffic singal out</th>\n",
              "      <th>Mud</th>\n",
              "      <th>None</th>\n",
              "      <th>Ol or diesel</th>\n",
              "      <th>Permanent sign or marking defective or obscured</th>\n",
              "      <th>Road surface defective</th>\n",
              "      <th>Roadworks</th>\n",
              "      <th>Dislodged vehicle load in carriageway</th>\n",
              "      <th>Involvement with previous accident</th>\n",
              "      <th>None</th>\n",
              "      <th>Other object in carriageway</th>\n",
              "      <th>Pedestrian in carriageway (not injured)</th>\n",
              "      <th>Yes</th>\n",
              "      <th>One way street</th>\n",
              "      <th>Roundabout</th>\n",
              "      <th>Single carriageway</th>\n",
              "      <th>Slip road</th>\n",
              "      <th>Unknown</th>\n",
              "    </tr>\n",
              "  </thead>\n",
              "  <tbody>\n",
              "    <tr>\n",
              "      <th>0</th>\n",
              "      <td>1</td>\n",
              "      <td>3</td>\n",
              "      <td>2</td>\n",
              "      <td>5</td>\n",
              "      <td>3</td>\n",
              "      <td>308</td>\n",
              "      <td>30</td>\n",
              "      <td>1</td>\n",
              "      <td>0</td>\n",
              "      <td>1</td>\n",
              "      <td>0</td>\n",
              "      <td>0</td>\n",
              "      <td>1</td>\n",
              "      <td>0</td>\n",
              "      <td>0</td>\n",
              "      <td>0</td>\n",
              "      <td>1</td>\n",
              "      <td>0</td>\n",
              "      <td>0</td>\n",
              "      <td>1</td>\n",
              "      <td>0</td>\n",
              "      <td>0</td>\n",
              "      <td>0</td>\n",
              "      <td>0</td>\n",
              "      <td>0</td>\n",
              "      <td>0</td>\n",
              "      <td>0</td>\n",
              "      <td>0</td>\n",
              "      <td>0</td>\n",
              "      <td>0</td>\n",
              "      <td>0</td>\n",
              "      <td>0</td>\n",
              "      <td>0</td>\n",
              "      <td>1</td>\n",
              "      <td>0</td>\n",
              "      <td>0</td>\n",
              "      <td>0</td>\n",
              "      <td>0</td>\n",
              "      <td>0</td>\n",
              "      <td>0</td>\n",
              "      <td>1</td>\n",
              "      <td>0</td>\n",
              "      <td>0</td>\n",
              "      <td>1</td>\n",
              "      <td>0</td>\n",
              "      <td>0</td>\n",
              "      <td>1</td>\n",
              "      <td>0</td>\n",
              "      <td>0</td>\n",
              "    </tr>\n",
              "    <tr>\n",
              "      <th>1</th>\n",
              "      <td>1</td>\n",
              "      <td>3</td>\n",
              "      <td>2</td>\n",
              "      <td>4</td>\n",
              "      <td>4</td>\n",
              "      <td>412</td>\n",
              "      <td>30</td>\n",
              "      <td>1</td>\n",
              "      <td>0</td>\n",
              "      <td>1</td>\n",
              "      <td>0</td>\n",
              "      <td>1</td>\n",
              "      <td>0</td>\n",
              "      <td>0</td>\n",
              "      <td>0</td>\n",
              "      <td>0</td>\n",
              "      <td>1</td>\n",
              "      <td>0</td>\n",
              "      <td>0</td>\n",
              "      <td>1</td>\n",
              "      <td>0</td>\n",
              "      <td>0</td>\n",
              "      <td>0</td>\n",
              "      <td>0</td>\n",
              "      <td>0</td>\n",
              "      <td>0</td>\n",
              "      <td>0</td>\n",
              "      <td>0</td>\n",
              "      <td>0</td>\n",
              "      <td>0</td>\n",
              "      <td>0</td>\n",
              "      <td>0</td>\n",
              "      <td>0</td>\n",
              "      <td>1</td>\n",
              "      <td>0</td>\n",
              "      <td>0</td>\n",
              "      <td>0</td>\n",
              "      <td>0</td>\n",
              "      <td>0</td>\n",
              "      <td>0</td>\n",
              "      <td>1</td>\n",
              "      <td>0</td>\n",
              "      <td>0</td>\n",
              "      <td>1</td>\n",
              "      <td>0</td>\n",
              "      <td>0</td>\n",
              "      <td>1</td>\n",
              "      <td>0</td>\n",
              "      <td>0</td>\n",
              "    </tr>\n",
              "    <tr>\n",
              "      <th>2</th>\n",
              "      <td>1</td>\n",
              "      <td>3</td>\n",
              "      <td>2</td>\n",
              "      <td>3</td>\n",
              "      <td>3</td>\n",
              "      <td>3220</td>\n",
              "      <td>30</td>\n",
              "      <td>1</td>\n",
              "      <td>0</td>\n",
              "      <td>1</td>\n",
              "      <td>0</td>\n",
              "      <td>0</td>\n",
              "      <td>0</td>\n",
              "      <td>0</td>\n",
              "      <td>1</td>\n",
              "      <td>0</td>\n",
              "      <td>0</td>\n",
              "      <td>0</td>\n",
              "      <td>1</td>\n",
              "      <td>1</td>\n",
              "      <td>0</td>\n",
              "      <td>0</td>\n",
              "      <td>0</td>\n",
              "      <td>0</td>\n",
              "      <td>0</td>\n",
              "      <td>0</td>\n",
              "      <td>0</td>\n",
              "      <td>0</td>\n",
              "      <td>0</td>\n",
              "      <td>0</td>\n",
              "      <td>0</td>\n",
              "      <td>0</td>\n",
              "      <td>0</td>\n",
              "      <td>1</td>\n",
              "      <td>0</td>\n",
              "      <td>0</td>\n",
              "      <td>0</td>\n",
              "      <td>0</td>\n",
              "      <td>0</td>\n",
              "      <td>0</td>\n",
              "      <td>1</td>\n",
              "      <td>0</td>\n",
              "      <td>0</td>\n",
              "      <td>1</td>\n",
              "      <td>1</td>\n",
              "      <td>0</td>\n",
              "      <td>0</td>\n",
              "      <td>0</td>\n",
              "      <td>0</td>\n",
              "    </tr>\n",
              "    <tr>\n",
              "      <th>3</th>\n",
              "      <td>1</td>\n",
              "      <td>3</td>\n",
              "      <td>1</td>\n",
              "      <td>4</td>\n",
              "      <td>5</td>\n",
              "      <td>0</td>\n",
              "      <td>30</td>\n",
              "      <td>1</td>\n",
              "      <td>0</td>\n",
              "      <td>1</td>\n",
              "      <td>0</td>\n",
              "      <td>1</td>\n",
              "      <td>0</td>\n",
              "      <td>0</td>\n",
              "      <td>0</td>\n",
              "      <td>0</td>\n",
              "      <td>0</td>\n",
              "      <td>0</td>\n",
              "      <td>1</td>\n",
              "      <td>1</td>\n",
              "      <td>0</td>\n",
              "      <td>0</td>\n",
              "      <td>0</td>\n",
              "      <td>0</td>\n",
              "      <td>0</td>\n",
              "      <td>0</td>\n",
              "      <td>0</td>\n",
              "      <td>0</td>\n",
              "      <td>0</td>\n",
              "      <td>0</td>\n",
              "      <td>0</td>\n",
              "      <td>0</td>\n",
              "      <td>0</td>\n",
              "      <td>1</td>\n",
              "      <td>0</td>\n",
              "      <td>0</td>\n",
              "      <td>0</td>\n",
              "      <td>0</td>\n",
              "      <td>0</td>\n",
              "      <td>0</td>\n",
              "      <td>1</td>\n",
              "      <td>0</td>\n",
              "      <td>0</td>\n",
              "      <td>1</td>\n",
              "      <td>0</td>\n",
              "      <td>0</td>\n",
              "      <td>1</td>\n",
              "      <td>0</td>\n",
              "      <td>0</td>\n",
              "    </tr>\n",
              "    <tr>\n",
              "      <th>4</th>\n",
              "      <td>1</td>\n",
              "      <td>3</td>\n",
              "      <td>1</td>\n",
              "      <td>3</td>\n",
              "      <td>4</td>\n",
              "      <td>325</td>\n",
              "      <td>30</td>\n",
              "      <td>1</td>\n",
              "      <td>0</td>\n",
              "      <td>1</td>\n",
              "      <td>0</td>\n",
              "      <td>1</td>\n",
              "      <td>0</td>\n",
              "      <td>0</td>\n",
              "      <td>0</td>\n",
              "      <td>0</td>\n",
              "      <td>1</td>\n",
              "      <td>0</td>\n",
              "      <td>0</td>\n",
              "      <td>1</td>\n",
              "      <td>0</td>\n",
              "      <td>0</td>\n",
              "      <td>0</td>\n",
              "      <td>0</td>\n",
              "      <td>0</td>\n",
              "      <td>0</td>\n",
              "      <td>0</td>\n",
              "      <td>0</td>\n",
              "      <td>0</td>\n",
              "      <td>0</td>\n",
              "      <td>0</td>\n",
              "      <td>0</td>\n",
              "      <td>0</td>\n",
              "      <td>1</td>\n",
              "      <td>0</td>\n",
              "      <td>0</td>\n",
              "      <td>0</td>\n",
              "      <td>0</td>\n",
              "      <td>0</td>\n",
              "      <td>0</td>\n",
              "      <td>1</td>\n",
              "      <td>0</td>\n",
              "      <td>0</td>\n",
              "      <td>1</td>\n",
              "      <td>0</td>\n",
              "      <td>0</td>\n",
              "      <td>1</td>\n",
              "      <td>0</td>\n",
              "      <td>0</td>\n",
              "    </tr>\n",
              "    <tr>\n",
              "      <th>...</th>\n",
              "      <td>...</td>\n",
              "      <td>...</td>\n",
              "      <td>...</td>\n",
              "      <td>...</td>\n",
              "      <td>...</td>\n",
              "      <td>...</td>\n",
              "      <td>...</td>\n",
              "      <td>...</td>\n",
              "      <td>...</td>\n",
              "      <td>...</td>\n",
              "      <td>...</td>\n",
              "      <td>...</td>\n",
              "      <td>...</td>\n",
              "      <td>...</td>\n",
              "      <td>...</td>\n",
              "      <td>...</td>\n",
              "      <td>...</td>\n",
              "      <td>...</td>\n",
              "      <td>...</td>\n",
              "      <td>...</td>\n",
              "      <td>...</td>\n",
              "      <td>...</td>\n",
              "      <td>...</td>\n",
              "      <td>...</td>\n",
              "      <td>...</td>\n",
              "      <td>...</td>\n",
              "      <td>...</td>\n",
              "      <td>...</td>\n",
              "      <td>...</td>\n",
              "      <td>...</td>\n",
              "      <td>...</td>\n",
              "      <td>...</td>\n",
              "      <td>...</td>\n",
              "      <td>...</td>\n",
              "      <td>...</td>\n",
              "      <td>...</td>\n",
              "      <td>...</td>\n",
              "      <td>...</td>\n",
              "      <td>...</td>\n",
              "      <td>...</td>\n",
              "      <td>...</td>\n",
              "      <td>...</td>\n",
              "      <td>...</td>\n",
              "      <td>...</td>\n",
              "      <td>...</td>\n",
              "      <td>...</td>\n",
              "      <td>...</td>\n",
              "      <td>...</td>\n",
              "      <td>...</td>\n",
              "    </tr>\n",
              "    <tr>\n",
              "      <th>464692</th>\n",
              "      <td>98</td>\n",
              "      <td>2</td>\n",
              "      <td>2</td>\n",
              "      <td>1</td>\n",
              "      <td>2</td>\n",
              "      <td>74</td>\n",
              "      <td>70</td>\n",
              "      <td>2</td>\n",
              "      <td>0</td>\n",
              "      <td>1</td>\n",
              "      <td>0</td>\n",
              "      <td>1</td>\n",
              "      <td>0</td>\n",
              "      <td>0</td>\n",
              "      <td>0</td>\n",
              "      <td>0</td>\n",
              "      <td>0</td>\n",
              "      <td>0</td>\n",
              "      <td>0</td>\n",
              "      <td>0</td>\n",
              "      <td>0</td>\n",
              "      <td>0</td>\n",
              "      <td>0</td>\n",
              "      <td>0</td>\n",
              "      <td>0</td>\n",
              "      <td>1</td>\n",
              "      <td>0</td>\n",
              "      <td>0</td>\n",
              "      <td>0</td>\n",
              "      <td>1</td>\n",
              "      <td>0</td>\n",
              "      <td>0</td>\n",
              "      <td>0</td>\n",
              "      <td>1</td>\n",
              "      <td>0</td>\n",
              "      <td>0</td>\n",
              "      <td>0</td>\n",
              "      <td>0</td>\n",
              "      <td>0</td>\n",
              "      <td>0</td>\n",
              "      <td>1</td>\n",
              "      <td>0</td>\n",
              "      <td>0</td>\n",
              "      <td>1</td>\n",
              "      <td>0</td>\n",
              "      <td>0</td>\n",
              "      <td>0</td>\n",
              "      <td>0</td>\n",
              "      <td>0</td>\n",
              "    </tr>\n",
              "    <tr>\n",
              "      <th>464693</th>\n",
              "      <td>98</td>\n",
              "      <td>3</td>\n",
              "      <td>2</td>\n",
              "      <td>5</td>\n",
              "      <td>2</td>\n",
              "      <td>74</td>\n",
              "      <td>70</td>\n",
              "      <td>2</td>\n",
              "      <td>0</td>\n",
              "      <td>1</td>\n",
              "      <td>0</td>\n",
              "      <td>1</td>\n",
              "      <td>0</td>\n",
              "      <td>0</td>\n",
              "      <td>0</td>\n",
              "      <td>0</td>\n",
              "      <td>0</td>\n",
              "      <td>0</td>\n",
              "      <td>0</td>\n",
              "      <td>1</td>\n",
              "      <td>0</td>\n",
              "      <td>0</td>\n",
              "      <td>0</td>\n",
              "      <td>0</td>\n",
              "      <td>0</td>\n",
              "      <td>0</td>\n",
              "      <td>0</td>\n",
              "      <td>0</td>\n",
              "      <td>0</td>\n",
              "      <td>1</td>\n",
              "      <td>0</td>\n",
              "      <td>0</td>\n",
              "      <td>0</td>\n",
              "      <td>1</td>\n",
              "      <td>0</td>\n",
              "      <td>0</td>\n",
              "      <td>0</td>\n",
              "      <td>0</td>\n",
              "      <td>0</td>\n",
              "      <td>0</td>\n",
              "      <td>1</td>\n",
              "      <td>0</td>\n",
              "      <td>0</td>\n",
              "      <td>1</td>\n",
              "      <td>0</td>\n",
              "      <td>0</td>\n",
              "      <td>0</td>\n",
              "      <td>0</td>\n",
              "      <td>0</td>\n",
              "    </tr>\n",
              "    <tr>\n",
              "      <th>464694</th>\n",
              "      <td>98</td>\n",
              "      <td>3</td>\n",
              "      <td>1</td>\n",
              "      <td>3</td>\n",
              "      <td>4</td>\n",
              "      <td>721</td>\n",
              "      <td>40</td>\n",
              "      <td>2</td>\n",
              "      <td>0</td>\n",
              "      <td>1</td>\n",
              "      <td>0</td>\n",
              "      <td>1</td>\n",
              "      <td>0</td>\n",
              "      <td>0</td>\n",
              "      <td>0</td>\n",
              "      <td>0</td>\n",
              "      <td>1</td>\n",
              "      <td>0</td>\n",
              "      <td>0</td>\n",
              "      <td>1</td>\n",
              "      <td>0</td>\n",
              "      <td>0</td>\n",
              "      <td>0</td>\n",
              "      <td>0</td>\n",
              "      <td>0</td>\n",
              "      <td>0</td>\n",
              "      <td>0</td>\n",
              "      <td>0</td>\n",
              "      <td>1</td>\n",
              "      <td>0</td>\n",
              "      <td>0</td>\n",
              "      <td>0</td>\n",
              "      <td>0</td>\n",
              "      <td>1</td>\n",
              "      <td>0</td>\n",
              "      <td>0</td>\n",
              "      <td>0</td>\n",
              "      <td>0</td>\n",
              "      <td>0</td>\n",
              "      <td>0</td>\n",
              "      <td>1</td>\n",
              "      <td>0</td>\n",
              "      <td>0</td>\n",
              "      <td>1</td>\n",
              "      <td>0</td>\n",
              "      <td>0</td>\n",
              "      <td>1</td>\n",
              "      <td>0</td>\n",
              "      <td>0</td>\n",
              "    </tr>\n",
              "    <tr>\n",
              "      <th>464695</th>\n",
              "      <td>98</td>\n",
              "      <td>2</td>\n",
              "      <td>3</td>\n",
              "      <td>4</td>\n",
              "      <td>3</td>\n",
              "      <td>75</td>\n",
              "      <td>60</td>\n",
              "      <td>2</td>\n",
              "      <td>0</td>\n",
              "      <td>1</td>\n",
              "      <td>0</td>\n",
              "      <td>1</td>\n",
              "      <td>0</td>\n",
              "      <td>0</td>\n",
              "      <td>0</td>\n",
              "      <td>0</td>\n",
              "      <td>0</td>\n",
              "      <td>0</td>\n",
              "      <td>0</td>\n",
              "      <td>0</td>\n",
              "      <td>0</td>\n",
              "      <td>0</td>\n",
              "      <td>0</td>\n",
              "      <td>1</td>\n",
              "      <td>0</td>\n",
              "      <td>0</td>\n",
              "      <td>0</td>\n",
              "      <td>0</td>\n",
              "      <td>0</td>\n",
              "      <td>0</td>\n",
              "      <td>1</td>\n",
              "      <td>0</td>\n",
              "      <td>0</td>\n",
              "      <td>1</td>\n",
              "      <td>0</td>\n",
              "      <td>0</td>\n",
              "      <td>0</td>\n",
              "      <td>0</td>\n",
              "      <td>0</td>\n",
              "      <td>0</td>\n",
              "      <td>1</td>\n",
              "      <td>0</td>\n",
              "      <td>0</td>\n",
              "      <td>1</td>\n",
              "      <td>0</td>\n",
              "      <td>0</td>\n",
              "      <td>1</td>\n",
              "      <td>0</td>\n",
              "      <td>0</td>\n",
              "    </tr>\n",
              "    <tr>\n",
              "      <th>464696</th>\n",
              "      <td>98</td>\n",
              "      <td>3</td>\n",
              "      <td>2</td>\n",
              "      <td>4</td>\n",
              "      <td>4</td>\n",
              "      <td>723</td>\n",
              "      <td>60</td>\n",
              "      <td>2</td>\n",
              "      <td>0</td>\n",
              "      <td>1</td>\n",
              "      <td>0</td>\n",
              "      <td>1</td>\n",
              "      <td>0</td>\n",
              "      <td>0</td>\n",
              "      <td>0</td>\n",
              "      <td>0</td>\n",
              "      <td>0</td>\n",
              "      <td>0</td>\n",
              "      <td>1</td>\n",
              "      <td>1</td>\n",
              "      <td>0</td>\n",
              "      <td>0</td>\n",
              "      <td>0</td>\n",
              "      <td>0</td>\n",
              "      <td>0</td>\n",
              "      <td>0</td>\n",
              "      <td>0</td>\n",
              "      <td>0</td>\n",
              "      <td>0</td>\n",
              "      <td>0</td>\n",
              "      <td>1</td>\n",
              "      <td>0</td>\n",
              "      <td>0</td>\n",
              "      <td>1</td>\n",
              "      <td>0</td>\n",
              "      <td>0</td>\n",
              "      <td>0</td>\n",
              "      <td>0</td>\n",
              "      <td>0</td>\n",
              "      <td>0</td>\n",
              "      <td>1</td>\n",
              "      <td>0</td>\n",
              "      <td>0</td>\n",
              "      <td>1</td>\n",
              "      <td>0</td>\n",
              "      <td>0</td>\n",
              "      <td>1</td>\n",
              "      <td>0</td>\n",
              "      <td>0</td>\n",
              "    </tr>\n",
              "  </tbody>\n",
              "</table>\n",
              "<p>464697 rows × 49 columns</p>\n",
              "</div>"
            ],
            "text/plain": [
              "        Police_Force  Accident_Severity  ...  Slip road  Unknown\n",
              "0                  1                  3  ...          0        0\n",
              "1                  1                  3  ...          0        0\n",
              "2                  1                  3  ...          0        0\n",
              "3                  1                  3  ...          0        0\n",
              "4                  1                  3  ...          0        0\n",
              "...              ...                ...  ...        ...      ...\n",
              "464692            98                  2  ...          0        0\n",
              "464693            98                  3  ...          0        0\n",
              "464694            98                  3  ...          0        0\n",
              "464695            98                  2  ...          0        0\n",
              "464696            98                  3  ...          0        0\n",
              "\n",
              "[464697 rows x 49 columns]"
            ]
          },
          "metadata": {
            "tags": []
          },
          "execution_count": 52
        }
      ]
    },
    {
      "cell_type": "code",
      "metadata": {
        "colab": {
          "base_uri": "https://localhost:8080/"
        },
        "id": "EKtNanpDVaZY",
        "outputId": "9eb85d8e-75d2-4778-9964-d51394bc41ab"
      },
      "source": [
        "df.columns"
      ],
      "execution_count": 53,
      "outputs": [
        {
          "output_type": "execute_result",
          "data": {
            "text/plain": [
              "Index(['Police_Force', 'Accident_Severity', 'Number_of_Vehicles',\n",
              "       'Day_of_Week', '1st_Road_Class', '1st_Road_Number', 'Speed_limit',\n",
              "       'Urban_or_Rural_Area', 'Control by school crossing patrol',\n",
              "       'None within 50 metres', 'Footbridge or subway',\n",
              "       'No physical crossing within 50 meters',\n",
              "       'Pedestrian phase at traffic signal junction', 'Zebra crossing',\n",
              "       'non-junction pedestrian crossing', 'Darkness: Street lighting unknown',\n",
              "       'Darkness: Street lights present and lit',\n",
              "       'Darkness: Street lights present but unlit',\n",
              "       'Daylight: Street light present', 'Fine without high winds',\n",
              "       'Fog or mist', 'Other', 'Raining with high winds',\n",
              "       'Raining without high winds', 'Snowing with high winds',\n",
              "       'Snowing without high winds', 'Unknown', 'Flood (Over 3cm of water)',\n",
              "       'Frost/Ice', 'Snow', 'Wet/Damp', 'Auto traffic singal out', 'Mud',\n",
              "       'None', 'Ol or diesel',\n",
              "       'Permanent sign or marking defective or obscured',\n",
              "       'Road surface defective', 'Roadworks',\n",
              "       'Dislodged vehicle load in carriageway',\n",
              "       'Involvement with previous accident', 'None',\n",
              "       'Other object in carriageway',\n",
              "       'Pedestrian in carriageway (not injured)', 'Yes', 'One way street',\n",
              "       'Roundabout', 'Single carriageway', 'Slip road', 'Unknown'],\n",
              "      dtype='object')"
            ]
          },
          "metadata": {
            "tags": []
          },
          "execution_count": 53
        }
      ]
    },
    {
      "cell_type": "code",
      "metadata": {
        "id": "iskk2APWVaZY"
      },
      "source": [
        "# Assigning X and Y\n",
        "X = df\n",
        "Y = Accidents['Number_of_Casualties']"
      ],
      "execution_count": 54,
      "outputs": []
    },
    {
      "cell_type": "code",
      "metadata": {
        "colab": {
          "base_uri": "https://localhost:8080/"
        },
        "id": "VOSc9AK1VaZY",
        "outputId": "c3165fe5-3a85-4a5d-9be9-3f15acb8a484"
      },
      "source": [
        "print(X.shape)\n",
        "print(Y.shape)"
      ],
      "execution_count": 55,
      "outputs": [
        {
          "output_type": "stream",
          "text": [
            "(464697, 49)\n",
            "(464697,)\n"
          ],
          "name": "stdout"
        }
      ]
    },
    {
      "cell_type": "code",
      "metadata": {
        "id": "FxPuAIfjVaZZ"
      },
      "source": [
        "# splitting the dataset\n",
        "from sklearn.model_selection import train_test_split\n",
        "X_train, X_test, y_train, y_test = train_test_split(X, Y, test_size=0.3, random_state=42)"
      ],
      "execution_count": 56,
      "outputs": []
    },
    {
      "cell_type": "code",
      "metadata": {
        "id": "7-6u-mF7VaZZ"
      },
      "source": [
        "# data normalization with sklearn\n",
        "from sklearn.preprocessing import MinMaxScaler\n",
        "\n",
        "# fit scaler on training data\n",
        "norm = MinMaxScaler().fit(X_train)\n",
        "\n",
        "# transform training data\n",
        "X_train_norm = norm.transform(X_train)\n",
        "\n",
        "# transform testing dataabs\n",
        "X_test_norm = norm.transform(X_test)"
      ],
      "execution_count": 57,
      "outputs": []
    },
    {
      "cell_type": "code",
      "metadata": {
        "colab": {
          "base_uri": "https://localhost:8080/"
        },
        "id": "sNg9hxYnVaZZ",
        "outputId": "17a9d3d8-9f9a-4029-94d9-721e4fa50802"
      },
      "source": [
        "# training \n",
        "from sklearn.linear_model import LogisticRegression\n",
        "logmodel = LogisticRegression()\n",
        "logmodel.fit(X_train,y_train)"
      ],
      "execution_count": 58,
      "outputs": [
        {
          "output_type": "stream",
          "text": [
            "/usr/local/lib/python3.7/dist-packages/sklearn/linear_model/_logistic.py:940: ConvergenceWarning: lbfgs failed to converge (status=1):\n",
            "STOP: TOTAL NO. of ITERATIONS REACHED LIMIT.\n",
            "\n",
            "Increase the number of iterations (max_iter) or scale the data as shown in:\n",
            "    https://scikit-learn.org/stable/modules/preprocessing.html\n",
            "Please also refer to the documentation for alternative solver options:\n",
            "    https://scikit-learn.org/stable/modules/linear_model.html#logistic-regression\n",
            "  extra_warning_msg=_LOGISTIC_SOLVER_CONVERGENCE_MSG)\n"
          ],
          "name": "stderr"
        },
        {
          "output_type": "execute_result",
          "data": {
            "text/plain": [
              "LogisticRegression(C=1.0, class_weight=None, dual=False, fit_intercept=True,\n",
              "                   intercept_scaling=1, l1_ratio=None, max_iter=100,\n",
              "                   multi_class='auto', n_jobs=None, penalty='l2',\n",
              "                   random_state=None, solver='lbfgs', tol=0.0001, verbose=0,\n",
              "                   warm_start=False)"
            ]
          },
          "metadata": {
            "tags": []
          },
          "execution_count": 58
        }
      ]
    },
    {
      "cell_type": "code",
      "metadata": {
        "id": "1tw3DV39VaZa"
      },
      "source": [
        "from sklearn.metrics import classification_report\n",
        "from sklearn.metrics import confusion_matrix\n",
        "from sklearn.metrics import accuracy_score, precision_score, recall_score, f1_score\n",
        "from sklearn.svm import SVC"
      ],
      "execution_count": 59,
      "outputs": []
    },
    {
      "cell_type": "code",
      "metadata": {
        "colab": {
          "base_uri": "https://localhost:8080/",
          "height": 1000
        },
        "id": "QLljveE5VaZa",
        "outputId": "176cc1d2-68b9-4526-d184-6edb31e65c90"
      },
      "source": [
        "predictions = logmodel.predict(X_test)\n",
        "pd.DataFrame(predictions).head(50)"
      ],
      "execution_count": 60,
      "outputs": [
        {
          "output_type": "execute_result",
          "data": {
            "text/html": [
              "<div>\n",
              "<style scoped>\n",
              "    .dataframe tbody tr th:only-of-type {\n",
              "        vertical-align: middle;\n",
              "    }\n",
              "\n",
              "    .dataframe tbody tr th {\n",
              "        vertical-align: top;\n",
              "    }\n",
              "\n",
              "    .dataframe thead th {\n",
              "        text-align: right;\n",
              "    }\n",
              "</style>\n",
              "<table border=\"1\" class=\"dataframe\">\n",
              "  <thead>\n",
              "    <tr style=\"text-align: right;\">\n",
              "      <th></th>\n",
              "      <th>0</th>\n",
              "    </tr>\n",
              "  </thead>\n",
              "  <tbody>\n",
              "    <tr>\n",
              "      <th>0</th>\n",
              "      <td>1</td>\n",
              "    </tr>\n",
              "    <tr>\n",
              "      <th>1</th>\n",
              "      <td>0</td>\n",
              "    </tr>\n",
              "    <tr>\n",
              "      <th>2</th>\n",
              "      <td>0</td>\n",
              "    </tr>\n",
              "    <tr>\n",
              "      <th>3</th>\n",
              "      <td>0</td>\n",
              "    </tr>\n",
              "    <tr>\n",
              "      <th>4</th>\n",
              "      <td>0</td>\n",
              "    </tr>\n",
              "    <tr>\n",
              "      <th>5</th>\n",
              "      <td>0</td>\n",
              "    </tr>\n",
              "    <tr>\n",
              "      <th>6</th>\n",
              "      <td>0</td>\n",
              "    </tr>\n",
              "    <tr>\n",
              "      <th>7</th>\n",
              "      <td>0</td>\n",
              "    </tr>\n",
              "    <tr>\n",
              "      <th>8</th>\n",
              "      <td>0</td>\n",
              "    </tr>\n",
              "    <tr>\n",
              "      <th>9</th>\n",
              "      <td>0</td>\n",
              "    </tr>\n",
              "    <tr>\n",
              "      <th>10</th>\n",
              "      <td>0</td>\n",
              "    </tr>\n",
              "    <tr>\n",
              "      <th>11</th>\n",
              "      <td>0</td>\n",
              "    </tr>\n",
              "    <tr>\n",
              "      <th>12</th>\n",
              "      <td>0</td>\n",
              "    </tr>\n",
              "    <tr>\n",
              "      <th>13</th>\n",
              "      <td>0</td>\n",
              "    </tr>\n",
              "    <tr>\n",
              "      <th>14</th>\n",
              "      <td>0</td>\n",
              "    </tr>\n",
              "    <tr>\n",
              "      <th>15</th>\n",
              "      <td>1</td>\n",
              "    </tr>\n",
              "    <tr>\n",
              "      <th>16</th>\n",
              "      <td>0</td>\n",
              "    </tr>\n",
              "    <tr>\n",
              "      <th>17</th>\n",
              "      <td>0</td>\n",
              "    </tr>\n",
              "    <tr>\n",
              "      <th>18</th>\n",
              "      <td>0</td>\n",
              "    </tr>\n",
              "    <tr>\n",
              "      <th>19</th>\n",
              "      <td>0</td>\n",
              "    </tr>\n",
              "    <tr>\n",
              "      <th>20</th>\n",
              "      <td>0</td>\n",
              "    </tr>\n",
              "    <tr>\n",
              "      <th>21</th>\n",
              "      <td>0</td>\n",
              "    </tr>\n",
              "    <tr>\n",
              "      <th>22</th>\n",
              "      <td>0</td>\n",
              "    </tr>\n",
              "    <tr>\n",
              "      <th>23</th>\n",
              "      <td>0</td>\n",
              "    </tr>\n",
              "    <tr>\n",
              "      <th>24</th>\n",
              "      <td>0</td>\n",
              "    </tr>\n",
              "    <tr>\n",
              "      <th>25</th>\n",
              "      <td>0</td>\n",
              "    </tr>\n",
              "    <tr>\n",
              "      <th>26</th>\n",
              "      <td>0</td>\n",
              "    </tr>\n",
              "    <tr>\n",
              "      <th>27</th>\n",
              "      <td>0</td>\n",
              "    </tr>\n",
              "    <tr>\n",
              "      <th>28</th>\n",
              "      <td>0</td>\n",
              "    </tr>\n",
              "    <tr>\n",
              "      <th>29</th>\n",
              "      <td>0</td>\n",
              "    </tr>\n",
              "    <tr>\n",
              "      <th>30</th>\n",
              "      <td>0</td>\n",
              "    </tr>\n",
              "    <tr>\n",
              "      <th>31</th>\n",
              "      <td>0</td>\n",
              "    </tr>\n",
              "    <tr>\n",
              "      <th>32</th>\n",
              "      <td>0</td>\n",
              "    </tr>\n",
              "    <tr>\n",
              "      <th>33</th>\n",
              "      <td>0</td>\n",
              "    </tr>\n",
              "    <tr>\n",
              "      <th>34</th>\n",
              "      <td>0</td>\n",
              "    </tr>\n",
              "    <tr>\n",
              "      <th>35</th>\n",
              "      <td>0</td>\n",
              "    </tr>\n",
              "    <tr>\n",
              "      <th>36</th>\n",
              "      <td>0</td>\n",
              "    </tr>\n",
              "    <tr>\n",
              "      <th>37</th>\n",
              "      <td>0</td>\n",
              "    </tr>\n",
              "    <tr>\n",
              "      <th>38</th>\n",
              "      <td>0</td>\n",
              "    </tr>\n",
              "    <tr>\n",
              "      <th>39</th>\n",
              "      <td>0</td>\n",
              "    </tr>\n",
              "    <tr>\n",
              "      <th>40</th>\n",
              "      <td>0</td>\n",
              "    </tr>\n",
              "    <tr>\n",
              "      <th>41</th>\n",
              "      <td>0</td>\n",
              "    </tr>\n",
              "    <tr>\n",
              "      <th>42</th>\n",
              "      <td>0</td>\n",
              "    </tr>\n",
              "    <tr>\n",
              "      <th>43</th>\n",
              "      <td>0</td>\n",
              "    </tr>\n",
              "    <tr>\n",
              "      <th>44</th>\n",
              "      <td>1</td>\n",
              "    </tr>\n",
              "    <tr>\n",
              "      <th>45</th>\n",
              "      <td>0</td>\n",
              "    </tr>\n",
              "    <tr>\n",
              "      <th>46</th>\n",
              "      <td>0</td>\n",
              "    </tr>\n",
              "    <tr>\n",
              "      <th>47</th>\n",
              "      <td>0</td>\n",
              "    </tr>\n",
              "    <tr>\n",
              "      <th>48</th>\n",
              "      <td>0</td>\n",
              "    </tr>\n",
              "    <tr>\n",
              "      <th>49</th>\n",
              "      <td>0</td>\n",
              "    </tr>\n",
              "  </tbody>\n",
              "</table>\n",
              "</div>"
            ],
            "text/plain": [
              "    0\n",
              "0   1\n",
              "1   0\n",
              "2   0\n",
              "3   0\n",
              "4   0\n",
              "5   0\n",
              "6   0\n",
              "7   0\n",
              "8   0\n",
              "9   0\n",
              "10  0\n",
              "11  0\n",
              "12  0\n",
              "13  0\n",
              "14  0\n",
              "15  1\n",
              "16  0\n",
              "17  0\n",
              "18  0\n",
              "19  0\n",
              "20  0\n",
              "21  0\n",
              "22  0\n",
              "23  0\n",
              "24  0\n",
              "25  0\n",
              "26  0\n",
              "27  0\n",
              "28  0\n",
              "29  0\n",
              "30  0\n",
              "31  0\n",
              "32  0\n",
              "33  0\n",
              "34  0\n",
              "35  0\n",
              "36  0\n",
              "37  0\n",
              "38  0\n",
              "39  0\n",
              "40  0\n",
              "41  0\n",
              "42  0\n",
              "43  0\n",
              "44  1\n",
              "45  0\n",
              "46  0\n",
              "47  0\n",
              "48  0\n",
              "49  0"
            ]
          },
          "metadata": {
            "tags": []
          },
          "execution_count": 60
        }
      ]
    },
    {
      "cell_type": "code",
      "metadata": {
        "colab": {
          "base_uri": "https://localhost:8080/"
        },
        "id": "i6GXKV3qVaZb",
        "outputId": "6e9a10d9-c4f8-40e2-9669-4b40a13abd49"
      },
      "source": [
        "cm_log = confusion_matrix(y_test, predictions)\n",
        "cm_log"
      ],
      "execution_count": 61,
      "outputs": [
        {
          "output_type": "execute_result",
          "data": {
            "text/plain": [
              "array([[105790,   2404],\n",
              "       [ 28074,   3142]])"
            ]
          },
          "metadata": {
            "tags": []
          },
          "execution_count": 61
        }
      ]
    },
    {
      "cell_type": "code",
      "metadata": {
        "colab": {
          "base_uri": "https://localhost:8080/",
          "height": 282
        },
        "id": "zZ2v42bOVaZb",
        "outputId": "f2c00793-b36d-45f7-b7d1-eeaa11a00750"
      },
      "source": [
        "sns.heatmap(cm_log, vmin=None,vmax=None,cmap='tab10',center=None,robust=False,annot=None,fmt='.5g',annot_kws=None,linewidths=0,xticklabels='auto',\n",
        "    yticklabels='auto',linecolor='white',square=True)"
      ],
      "execution_count": 62,
      "outputs": [
        {
          "output_type": "execute_result",
          "data": {
            "text/plain": [
              "<matplotlib.axes._subplots.AxesSubplot at 0x7f6116def650>"
            ]
          },
          "metadata": {
            "tags": []
          },
          "execution_count": 62
        },
        {
          "output_type": "display_data",
          "data": {
            "image/png": "[encoded data removed]",
            "text/plain": [
              "<Figure size 432x288 with 2 Axes>"
            ]
          },
          "metadata": {
            "tags": [],
            "needs_background": "light"
          }
        }
      ]
    },
    {
      "cell_type": "code",
      "metadata": {
        "colab": {
          "base_uri": "https://localhost:8080/"
        },
        "id": "XNv5KTpWVaZc",
        "outputId": "8e550a9a-8e44-4c46-98b4-ca76aa42acd2"
      },
      "source": [
        "log_accuracy_score = accuracy_score(y_test, predictions)\n",
        "print(log_accuracy_score*100)"
      ],
      "execution_count": 63,
      "outputs": [
        {
          "output_type": "stream",
          "text": [
            "78.13786672405136\n"
          ],
          "name": "stdout"
        }
      ]
    },
    {
      "cell_type": "code",
      "metadata": {
        "colab": {
          "base_uri": "https://localhost:8080/"
        },
        "id": "CQcGX04HVaZc",
        "outputId": "3e486e36-ae6f-4faf-c791-99c86227d160"
      },
      "source": [
        "print(classification_report(y_test,predictions))"
      ],
      "execution_count": 64,
      "outputs": [
        {
          "output_type": "stream",
          "text": [
            "              precision    recall  f1-score   support\n",
            "\n",
            "           0       0.79      0.98      0.87    108194\n",
            "           1       0.57      0.10      0.17     31216\n",
            "\n",
            "    accuracy                           0.78    139410\n",
            "   macro avg       0.68      0.54      0.52    139410\n",
            "weighted avg       0.74      0.78      0.72    139410\n",
            "\n"
          ],
          "name": "stdout"
        }
      ]
    },
    {
      "cell_type": "code",
      "metadata": {
        "id": "boYp2eZBVaZd"
      },
      "source": [
        "svc = SVC(kernel='rbf', C=1).fit(X_train, y_train)"
      ],
      "execution_count": 65,
      "outputs": []
    },
    {
      "cell_type": "code",
      "metadata": {
        "id": "NKz9PWJ-VaZd"
      },
      "source": [
        "y_preds = svc.predict(X_test)"
      ],
      "execution_count": 66,
      "outputs": []
    },
    {
      "cell_type": "code",
      "metadata": {
        "colab": {
          "base_uri": "https://localhost:8080/"
        },
        "id": "GXtFt4oaVaZd",
        "outputId": "1037268c-5d11-4420-dc53-2ccd316aeccb"
      },
      "source": [
        "confusions = confusion_matrix(y_test, y_preds)\n",
        "print('Confusion Matrix\\n')\n",
        "print(confusions)"
      ],
      "execution_count": 67,
      "outputs": [
        {
          "output_type": "stream",
          "text": [
            "Confusion Matrix\n",
            "\n",
            "[[108194      0]\n",
            " [ 31216      0]]\n"
          ],
          "name": "stdout"
        }
      ]
    },
    {
      "cell_type": "code",
      "metadata": {
        "colab": {
          "base_uri": "https://localhost:8080/"
        },
        "id": "WVuuAKKvVaZd",
        "outputId": "89f0ec28-96ee-4895-d759-5666d1595759"
      },
      "source": [
        "print ('\\nClassification report\\n')\n",
        "print (classification_report(y_test, y_preds, target_names=['Class 0', 'Class 1']))"
      ],
      "execution_count": 68,
      "outputs": [
        {
          "output_type": "stream",
          "text": [
            "\n",
            "Classification report\n",
            "\n",
            "              precision    recall  f1-score   support\n",
            "\n",
            "     Class 0       0.78      1.00      0.87    108194\n",
            "     Class 1       0.00      0.00      0.00     31216\n",
            "\n",
            "    accuracy                           0.78    139410\n",
            "   macro avg       0.39      0.50      0.44    139410\n",
            "weighted avg       0.60      0.78      0.68    139410\n",
            "\n"
          ],
          "name": "stdout"
        },
        {
          "output_type": "stream",
          "text": [
            "/usr/local/lib/python3.7/dist-packages/sklearn/metrics/_classification.py:1272: UndefinedMetricWarning: Precision and F-score are ill-defined and being set to 0.0 in labels with no predicted samples. Use `zero_division` parameter to control this behavior.\n",
            "  _warn_prf(average, modifier, msg_start, len(result))\n"
          ],
          "name": "stderr"
        }
      ]
    },
    {
      "cell_type": "code",
      "metadata": {
        "colab": {
          "base_uri": "https://localhost:8080/"
        },
        "id": "ZQI77vNpVaZe",
        "outputId": "5a265078-4619-4f90-ebd2-c048514212e2"
      },
      "source": [
        "svm_accuracy_score = accuracy_score(y_test, y_preds)\n",
        "print(svm_accuracy_score*100)"
      ],
      "execution_count": 69,
      "outputs": [
        {
          "output_type": "stream",
          "text": [
            "77.60849293450973\n"
          ],
          "name": "stdout"
        }
      ]
    },
    {
      "cell_type": "code",
      "metadata": {
        "id": "_R99hyFqVaZe"
      },
      "source": [
        ""
      ],
      "execution_count": 69,
      "outputs": []
    }
  ]
}