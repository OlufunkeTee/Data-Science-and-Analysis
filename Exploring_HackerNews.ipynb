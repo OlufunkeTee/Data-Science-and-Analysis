{
  "nbformat": 4,
  "nbformat_minor": 0,
  "metadata": {
    "kernelspec": {
      "display_name": "Python 3",
      "language": "python",
      "name": "python3"
    },
    "language_info": {
      "codemirror_mode": {
        "name": "ipython",
        "version": 3
      },
      "file_extension": ".py",
      "mimetype": "text/x-python",
      "name": "python",
      "nbconvert_exporter": "python",
      "pygments_lexer": "ipython3",
      "version": "3.8.2"
    },
    "colab": {
      "name": "Exploring_HackerNews.ipynb",
      "provenance": [],
      "include_colab_link": true
    }
  },
  "cells": [
    {
      "cell_type": "markdown",
      "metadata": {
        "id": "view-in-github",
        "colab_type": "text"
      },
      "source": [
        "<a href=\"https://colab.research.google.com/github/OlufunkeTee/Data-Science-and-Analysis/blob/main/Exploring_HackerNews.ipynb\" target=\"_parent\"><img src=\"https://colab.research.google.com/assets/colab-badge.svg\" alt=\"Open In Colab\"/></a>"
      ]
    },
    {
      "cell_type": "markdown",
      "metadata": {
        "collapsed": true,
        "id": "RxtIFTa17NLy"
      },
      "source": [
        "# Guided Dataquest Project: Exploring Hacker News Posts"
      ]
    },
    {
      "cell_type": "markdown",
      "metadata": {
        "id": "p7zawuTp7NML"
      },
      "source": [
        "In this project, we'll compare two different types of posts from [Hacker News](https://news.ycombinator.com/), a popular site where technology related stories (or 'posts') are voted and commented upon. The two types of posts we'll explore begin with either Ask HN or Show HN.\n",
        "\n",
        "Users submit Ask HN posts to ask the Hacker News community a specific question, such as \"What is the best online course you've ever taken?\" Likewise, users submit Show HN posts to show the Hacker News community a project, product, or just generally something interesting.\n",
        "\n",
        "We'll specifically compare these two types of posts to determine the following:\n",
        "\n",
        "* Do Ask HN or Show HN receive more comments on average?\n",
        "* Do posts created at a certain time receive more comments on average?\n",
        "\n",
        "It should be noted that the data set we're working with was reduced from almost 300,000 rows to approximately 20,000 rows by removing all submissions that did not receive any comments, and then randomly sampling from the remaining submissions."
      ]
    },
    {
      "cell_type": "markdown",
      "metadata": {
        "id": "dTrTYHNI7NMS"
      },
      "source": [
        "#### First we'll read in the data and remove the header"
      ]
    },
    {
      "cell_type": "code",
      "metadata": {
        "id": "n60b4-aK7NMW"
      },
      "source": [
        "from csv import reader\n",
        "\n",
        "### reading the dataset ###\n",
        "opened_file = open('hacker_news.csv')\n",
        "read_file = reader(opened_file)\n",
        "hn = list(read_file)"
      ],
      "execution_count": null,
      "outputs": []
    },
    {
      "cell_type": "code",
      "metadata": {
        "id": "iSbXrcVu7NMf",
        "outputId": "a7ef14a5-4478-4209-fa00-1bf594e0c313"
      },
      "source": [
        "hn[:5] # displaying the first 5 rows"
      ],
      "execution_count": null,
      "outputs": [
        {
          "data": {
            "text/plain": [
              "[['id', 'title', 'url', 'num_points', 'num_comments', 'author', 'created_at'],\n",
              " ['12224879',\n",
              "  'Interactive Dynamic Video',\n",
              "  'http://www.interactivedynamicvideo.com/',\n",
              "  '386',\n",
              "  '52',\n",
              "  'ne0phyte',\n",
              "  '8/4/2016 11:52'],\n",
              " ['10975351',\n",
              "  'How to Use Open Source and Shut the Fuck Up at the Same Time',\n",
              "  'http://hueniverse.com/2016/01/26/how-to-use-open-source-and-shut-the-fuck-up-at-the-same-time/',\n",
              "  '39',\n",
              "  '10',\n",
              "  'josep2',\n",
              "  '1/26/2016 19:30'],\n",
              " ['11964716',\n",
              "  \"Florida DJs May Face Felony for April Fools' Water Joke\",\n",
              "  'http://www.thewire.com/entertainment/2013/04/florida-djs-april-fools-water-joke/63798/',\n",
              "  '2',\n",
              "  '1',\n",
              "  'vezycash',\n",
              "  '6/23/2016 22:20'],\n",
              " ['11919867',\n",
              "  'Technology ventures: From Idea to Enterprise',\n",
              "  'https://www.amazon.com/Technology-Ventures-Enterprise-Thomas-Byers/dp/0073523429',\n",
              "  '3',\n",
              "  '1',\n",
              "  'hswarna',\n",
              "  '6/17/2016 0:01']]"
            ]
          },
          "execution_count": 21,
          "metadata": {},
          "output_type": "execute_result"
        }
      ]
    },
    {
      "cell_type": "markdown",
      "metadata": {
        "id": "DtljgI4W7NMn"
      },
      "source": [
        "# Removing the headers"
      ]
    },
    {
      "cell_type": "code",
      "metadata": {
        "id": "m1X81clI7NMq"
      },
      "source": [
        "# Extracting the first row of data and assigning it to the variable, headers.\n",
        "headers = hn[0]\n",
        "hn = hn[1:] # removing the first row from hn"
      ],
      "execution_count": null,
      "outputs": []
    },
    {
      "cell_type": "code",
      "metadata": {
        "id": "NsLByUDs7NMv",
        "outputId": "3e80891c-8243-48b6-8b90-d629f53cab48"
      },
      "source": [
        "headers"
      ],
      "execution_count": null,
      "outputs": [
        {
          "data": {
            "text/plain": [
              "['id', 'title', 'url', 'num_points', 'num_comments', 'author', 'created_at']"
            ]
          },
          "execution_count": 23,
          "metadata": {},
          "output_type": "execute_result"
        }
      ]
    },
    {
      "cell_type": "code",
      "metadata": {
        "id": "YOnANY-e7NMz",
        "outputId": "2030169f-f7aa-47d0-a7d0-f480ee7c4970"
      },
      "source": [
        "hn[:5] # confirming the headers are removed"
      ],
      "execution_count": null,
      "outputs": [
        {
          "data": {
            "text/plain": [
              "[['12224879',\n",
              "  'Interactive Dynamic Video',\n",
              "  'http://www.interactivedynamicvideo.com/',\n",
              "  '386',\n",
              "  '52',\n",
              "  'ne0phyte',\n",
              "  '8/4/2016 11:52'],\n",
              " ['10975351',\n",
              "  'How to Use Open Source and Shut the Fuck Up at the Same Time',\n",
              "  'http://hueniverse.com/2016/01/26/how-to-use-open-source-and-shut-the-fuck-up-at-the-same-time/',\n",
              "  '39',\n",
              "  '10',\n",
              "  'josep2',\n",
              "  '1/26/2016 19:30'],\n",
              " ['11964716',\n",
              "  \"Florida DJs May Face Felony for April Fools' Water Joke\",\n",
              "  'http://www.thewire.com/entertainment/2013/04/florida-djs-april-fools-water-joke/63798/',\n",
              "  '2',\n",
              "  '1',\n",
              "  'vezycash',\n",
              "  '6/23/2016 22:20'],\n",
              " ['11919867',\n",
              "  'Technology ventures: From Idea to Enterprise',\n",
              "  'https://www.amazon.com/Technology-Ventures-Enterprise-Thomas-Byers/dp/0073523429',\n",
              "  '3',\n",
              "  '1',\n",
              "  'hswarna',\n",
              "  '6/17/2016 0:01'],\n",
              " ['10301696',\n",
              "  'Note by Note: The Making of Steinway L1037 (2007)',\n",
              "  'http://www.nytimes.com/2007/11/07/movies/07stein.html?_r=0',\n",
              "  '8',\n",
              "  '2',\n",
              "  'walterbell',\n",
              "  '9/30/2015 4:12']]"
            ]
          },
          "execution_count": 24,
          "metadata": {},
          "output_type": "execute_result"
        }
      ]
    },
    {
      "cell_type": "markdown",
      "metadata": {
        "id": "53vdFxM27NM4"
      },
      "source": [
        "We can see above that the data set contains the title of the posts, the number of comments for each post, and the date the post was created. Let's start by exploring the number of comments for each type of post."
      ]
    },
    {
      "cell_type": "markdown",
      "metadata": {
        "id": "TfTKPB-L7NM7"
      },
      "source": [
        "# Extracting Ask HN and Show HN Posts"
      ]
    },
    {
      "cell_type": "markdown",
      "metadata": {
        "id": "TAAENSG27NM9"
      },
      "source": [
        "First, we'll identify posts that begin with either Ask HN or Show HN and separate the data for those two types of posts into different lists. Separating the data makes it easier to analyze in the following steps."
      ]
    },
    {
      "cell_type": "code",
      "metadata": {
        "id": "pywIr80t7NNA"
      },
      "source": [
        "# filtering out data that begins with Ask HN or Show HN\n",
        "ask_posts = []\n",
        "show_posts = []\n",
        "other_posts = []\n",
        "for row in hn:\n",
        "    title = row[1]\n",
        "    if title.lower().startswith('ask hn'):\n",
        "        ask_posts.append(row)\n",
        "    elif title.lower().startswith('show hn'):\n",
        "        show_posts.append(row)\n",
        "    else:\n",
        "        other_posts.append(row)"
      ],
      "execution_count": null,
      "outputs": []
    },
    {
      "cell_type": "code",
      "metadata": {
        "id": "nbAK4P7T7NNE",
        "outputId": "c85a2462-8b85-4c81-ac95-25a92614e017"
      },
      "source": [
        "# checking out number of posts. \n",
        "print(len(ask_posts))\n",
        "print(len(show_posts))\n",
        "print(len(other_posts))"
      ],
      "execution_count": null,
      "outputs": [
        {
          "name": "stdout",
          "output_type": "stream",
          "text": [
            "1744\n",
            "1162\n",
            "17194\n"
          ]
        }
      ]
    },
    {
      "cell_type": "markdown",
      "metadata": {
        "id": "kJhcsiPg7NNI"
      },
      "source": [
        "# Calculating the Average Number of Comments for Ask HN and Show HN Posts"
      ]
    },
    {
      "cell_type": "markdown",
      "metadata": {
        "id": "34S1H6Ad7NNJ"
      },
      "source": [
        "Now that we separated ask posts and show posts into different lists, we'll calculate the average number of comments each type of post receives."
      ]
    },
    {
      "cell_type": "code",
      "metadata": {
        "id": "zrx6RC3A7NNM",
        "outputId": "934e03be-83f1-4306-95d1-674418419653"
      },
      "source": [
        "ask_posts[:5]"
      ],
      "execution_count": null,
      "outputs": [
        {
          "data": {
            "text/plain": [
              "[['12296411',\n",
              "  'Ask HN: How to improve my personal website?',\n",
              "  '',\n",
              "  '2',\n",
              "  '6',\n",
              "  'ahmedbaracat',\n",
              "  '8/16/2016 9:55'],\n",
              " ['10610020',\n",
              "  'Ask HN: Am I the only one outraged by Twitter shutting down share counts?',\n",
              "  '',\n",
              "  '28',\n",
              "  '29',\n",
              "  'tkfx',\n",
              "  '11/22/2015 13:43'],\n",
              " ['11610310',\n",
              "  'Ask HN: Aby recent changes to CSS that broke mobile?',\n",
              "  '',\n",
              "  '1',\n",
              "  '1',\n",
              "  'polskibus',\n",
              "  '5/2/2016 10:14'],\n",
              " ['12210105',\n",
              "  'Ask HN: Looking for Employee #3 How do I do it?',\n",
              "  '',\n",
              "  '1',\n",
              "  '3',\n",
              "  'sph130',\n",
              "  '8/2/2016 14:20'],\n",
              " ['10394168',\n",
              "  'Ask HN: Someone offered to buy my browser extension from me. What now?',\n",
              "  '',\n",
              "  '28',\n",
              "  '17',\n",
              "  'roykolak',\n",
              "  '10/15/2015 16:38']]"
            ]
          },
          "execution_count": 27,
          "metadata": {},
          "output_type": "execute_result"
        }
      ]
    },
    {
      "cell_type": "code",
      "metadata": {
        "id": "7xC41HRJ7NNO",
        "outputId": "fdae1bb5-ee83-46f8-f099-e5fbff181a09"
      },
      "source": [
        "show_posts[:5]"
      ],
      "execution_count": null,
      "outputs": [
        {
          "data": {
            "text/plain": [
              "[['10627194',\n",
              "  'Show HN: Wio Link  ESP8266 Based Web of Things Hardware Development Platform',\n",
              "  'https://iot.seeed.cc',\n",
              "  '26',\n",
              "  '22',\n",
              "  'kfihihc',\n",
              "  '11/25/2015 14:03'],\n",
              " ['10646440',\n",
              "  'Show HN: Something pointless I made',\n",
              "  'http://dn.ht/picklecat/',\n",
              "  '747',\n",
              "  '102',\n",
              "  'dhotson',\n",
              "  '11/29/2015 22:46'],\n",
              " ['11590768',\n",
              "  'Show HN: Shanhu.io, a programming playground powered by e8vm',\n",
              "  'https://shanhu.io',\n",
              "  '1',\n",
              "  '1',\n",
              "  'h8liu',\n",
              "  '4/28/2016 18:05'],\n",
              " ['12178806',\n",
              "  'Show HN: Webscope  Easy way for web developers to communicate with Clients',\n",
              "  'http://webscopeapp.com',\n",
              "  '3',\n",
              "  '3',\n",
              "  'fastbrick',\n",
              "  '7/28/2016 7:11'],\n",
              " ['10872799',\n",
              "  'Show HN: GeoScreenshot  Easily test Geo-IP based web pages',\n",
              "  'https://www.geoscreenshot.com/',\n",
              "  '1',\n",
              "  '9',\n",
              "  'kpsychwave',\n",
              "  '1/9/2016 20:45']]"
            ]
          },
          "execution_count": 28,
          "metadata": {},
          "output_type": "execute_result"
        }
      ]
    },
    {
      "cell_type": "code",
      "metadata": {
        "id": "2QnvYxPP7NNQ",
        "outputId": "29e89e6f-48d9-4ce5-c0ce-0547f3b8fe80"
      },
      "source": [
        "other_posts[:5]"
      ],
      "execution_count": null,
      "outputs": [
        {
          "data": {
            "text/plain": [
              "[['12224879',\n",
              "  'Interactive Dynamic Video',\n",
              "  'http://www.interactivedynamicvideo.com/',\n",
              "  '386',\n",
              "  '52',\n",
              "  'ne0phyte',\n",
              "  '8/4/2016 11:52'],\n",
              " ['10975351',\n",
              "  'How to Use Open Source and Shut the Fuck Up at the Same Time',\n",
              "  'http://hueniverse.com/2016/01/26/how-to-use-open-source-and-shut-the-fuck-up-at-the-same-time/',\n",
              "  '39',\n",
              "  '10',\n",
              "  'josep2',\n",
              "  '1/26/2016 19:30'],\n",
              " ['11964716',\n",
              "  \"Florida DJs May Face Felony for April Fools' Water Joke\",\n",
              "  'http://www.thewire.com/entertainment/2013/04/florida-djs-april-fools-water-joke/63798/',\n",
              "  '2',\n",
              "  '1',\n",
              "  'vezycash',\n",
              "  '6/23/2016 22:20'],\n",
              " ['11919867',\n",
              "  'Technology ventures: From Idea to Enterprise',\n",
              "  'https://www.amazon.com/Technology-Ventures-Enterprise-Thomas-Byers/dp/0073523429',\n",
              "  '3',\n",
              "  '1',\n",
              "  'hswarna',\n",
              "  '6/17/2016 0:01'],\n",
              " ['10301696',\n",
              "  'Note by Note: The Making of Steinway L1037 (2007)',\n",
              "  'http://www.nytimes.com/2007/11/07/movies/07stein.html?_r=0',\n",
              "  '8',\n",
              "  '2',\n",
              "  'walterbell',\n",
              "  '9/30/2015 4:12']]"
            ]
          },
          "execution_count": 29,
          "metadata": {},
          "output_type": "execute_result"
        }
      ]
    },
    {
      "cell_type": "code",
      "metadata": {
        "id": "ZqRdH0Pg7NNS",
        "outputId": "35b6c8e9-55cc-46f3-c3a0-7f445e36a1ac"
      },
      "source": [
        "# Getting the total number of comments for Ask HN Posts\n",
        "total_ask_comments = 0\n",
        "for post in ask_posts:\n",
        "    total_ask_comments += int(post[4])\n",
        "avg_ask_comments = total_ask_comments/ len(ask_posts)\n",
        "print(avg_ask_comments)"
      ],
      "execution_count": null,
      "outputs": [
        {
          "name": "stdout",
          "output_type": "stream",
          "text": [
            "14.038417431192661\n"
          ]
        }
      ]
    },
    {
      "cell_type": "code",
      "metadata": {
        "id": "svYdclR37NNU",
        "outputId": "cd1b10c7-0539-400c-fe65-614632c9ce40"
      },
      "source": [
        "# Getting the total number of comments for Show HN Posts\n",
        "total_show_comments = 0\n",
        "for post in show_posts:\n",
        "    total_show_comments += int(post[4])\n",
        "avg_show_comments = total_show_comments/ len(show_posts)\n",
        "print(avg_show_comments)"
      ],
      "execution_count": null,
      "outputs": [
        {
          "name": "stdout",
          "output_type": "stream",
          "text": [
            "10.31669535283993\n"
          ]
        }
      ]
    },
    {
      "cell_type": "markdown",
      "metadata": {
        "id": "LOO9FVNv7NNW"
      },
      "source": [
        "Computing the average post comments on show posts and ask posts reveals that ask posts comments receive more comments on average compared with show posts."
      ]
    },
    {
      "cell_type": "markdown",
      "metadata": {
        "id": "AE6_ctHd7NNX"
      },
      "source": [
        "Since ask posts have more average comments, we'd continue our analysis with it.\n",
        "Next we'll determine if ask posts created at a certain time are more likely to attract comments."
      ]
    },
    {
      "cell_type": "markdown",
      "metadata": {
        "id": "WuvZasgb7NNZ"
      },
      "source": [
        "# Finding the Amount of Ask Posts and Comments by Hour Created"
      ]
    },
    {
      "cell_type": "markdown",
      "metadata": {
        "id": "mAifRref7NNb"
      },
      "source": [
        "Next, we'll determine if we can maximize the amount of comments an ask post receives by creating it at a certain time. First, we'll find the amount of ask posts created during each hour of day, along with the number of comments those posts received. Then, we'll calculate the average amount of comments ask posts created at each hour of the day receive."
      ]
    },
    {
      "cell_type": "markdown",
      "metadata": {
        "id": "CE6njXAY7NNc"
      },
      "source": [
        "#### Calculating the number of ask posts created in each hour of the day and the average number of comments ask posts receive by hour created."
      ]
    },
    {
      "cell_type": "code",
      "metadata": {
        "id": "lvs0HKV17NNd"
      },
      "source": [
        "import datetime as dt"
      ],
      "execution_count": null,
      "outputs": []
    },
    {
      "cell_type": "code",
      "metadata": {
        "id": "ylvCdhvN7NNe",
        "outputId": "a3c980fd-fce4-49ce-ab33-cdb286d2522a"
      },
      "source": [
        "result_list = []\n",
        "for post in ask_posts:\n",
        "    result_list.append(\n",
        "        [post[6], int(post[4])])\n",
        "\n",
        "comments_by_hour = {}\n",
        "counts_by_hour = {}\n",
        "date_format = \"%m/%d/%Y %H:%M\"\n",
        "\n",
        "for each_row in result_list:\n",
        "    date = each_row[0]\n",
        "    comment = each_row[1]\n",
        "    time = dt.datetime.strptime(date, date_format).strftime(\"%H\")\n",
        "    if time in counts_by_hour:\n",
        "        comments_by_hour[time] += comment\n",
        "        counts_by_hour[time] += 1\n",
        "    else:\n",
        "        comments_by_hour[time] = comment\n",
        "        counts_by_hour[time] = 1\n",
        "\n",
        "comments_by_hour"
      ],
      "execution_count": null,
      "outputs": [
        {
          "data": {
            "text/plain": [
              "{'09': 251,\n",
              " '13': 1253,\n",
              " '10': 793,\n",
              " '14': 1416,\n",
              " '16': 1814,\n",
              " '23': 543,\n",
              " '12': 687,\n",
              " '17': 1146,\n",
              " '15': 4477,\n",
              " '21': 1745,\n",
              " '20': 1722,\n",
              " '02': 1381,\n",
              " '18': 1439,\n",
              " '03': 421,\n",
              " '05': 464,\n",
              " '19': 1188,\n",
              " '01': 683,\n",
              " '22': 479,\n",
              " '08': 492,\n",
              " '04': 337,\n",
              " '00': 447,\n",
              " '06': 397,\n",
              " '07': 267,\n",
              " '11': 641}"
            ]
          },
          "execution_count": 33,
          "metadata": {},
          "output_type": "execute_result"
        }
      ]
    },
    {
      "cell_type": "markdown",
      "metadata": {
        "id": "kd4ReUNX7NNg"
      },
      "source": [
        "# Calculating the average number of comments for ask HN posts per hour"
      ]
    },
    {
      "cell_type": "code",
      "metadata": {
        "id": "ST4b-uuk7NNi",
        "outputId": "90d1e556-999c-4c97-8c30-9cbc0817c5e2"
      },
      "source": [
        "# Calculating the average amount of comments `Ask HN` posts created at each hour of the day receive.\n",
        "avg_by_hour = []\n",
        "\n",
        "for hr in comments_by_hour:\n",
        "    avg_by_hour.append([hr, comments_by_hour[hr] / counts_by_hour[hr]])\n",
        "\n",
        "avg_by_hour"
      ],
      "execution_count": null,
      "outputs": [
        {
          "data": {
            "text/plain": [
              "[['09', 5.5777777777777775],\n",
              " ['13', 14.741176470588234],\n",
              " ['10', 13.440677966101696],\n",
              " ['14', 13.233644859813085],\n",
              " ['16', 16.796296296296298],\n",
              " ['23', 7.985294117647059],\n",
              " ['12', 9.41095890410959],\n",
              " ['17', 11.46],\n",
              " ['15', 38.5948275862069],\n",
              " ['21', 16.009174311926607],\n",
              " ['20', 21.525],\n",
              " ['02', 23.810344827586206],\n",
              " ['18', 13.20183486238532],\n",
              " ['03', 7.796296296296297],\n",
              " ['05', 10.08695652173913],\n",
              " ['19', 10.8],\n",
              " ['01', 11.383333333333333],\n",
              " ['22', 6.746478873239437],\n",
              " ['08', 10.25],\n",
              " ['04', 7.170212765957447],\n",
              " ['00', 8.127272727272727],\n",
              " ['06', 9.022727272727273],\n",
              " ['07', 7.852941176470588],\n",
              " ['11', 11.051724137931034]]"
            ]
          },
          "execution_count": 34,
          "metadata": {},
          "output_type": "execute_result"
        }
      ]
    },
    {
      "cell_type": "markdown",
      "metadata": {
        "id": "w9oB1QU_7NNk"
      },
      "source": [
        "# Sorting and Printing values from a list of lists"
      ]
    },
    {
      "cell_type": "code",
      "metadata": {
        "id": "nkKy6NfN7NNk",
        "outputId": "e3b73fd1-dc5a-4b03-9200-ee3795c227de"
      },
      "source": [
        "swap_avg_by_hour = []\n",
        "\n",
        "for row in avg_by_hour:\n",
        "    swap_avg_by_hour.append([row[1], row[0]])\n",
        "    \n",
        "print(swap_avg_by_hour)\n",
        "\n",
        "sorted_swap = sorted(swap_avg_by_hour, reverse=True)\n",
        "\n",
        "sorted_swap"
      ],
      "execution_count": null,
      "outputs": [
        {
          "name": "stdout",
          "output_type": "stream",
          "text": [
            "[[5.5777777777777775, '09'], [14.741176470588234, '13'], [13.440677966101696, '10'], [13.233644859813085, '14'], [16.796296296296298, '16'], [7.985294117647059, '23'], [9.41095890410959, '12'], [11.46, '17'], [38.5948275862069, '15'], [16.009174311926607, '21'], [21.525, '20'], [23.810344827586206, '02'], [13.20183486238532, '18'], [7.796296296296297, '03'], [10.08695652173913, '05'], [10.8, '19'], [11.383333333333333, '01'], [6.746478873239437, '22'], [10.25, '08'], [7.170212765957447, '04'], [8.127272727272727, '00'], [9.022727272727273, '06'], [7.852941176470588, '07'], [11.051724137931034, '11']]\n"
          ]
        },
        {
          "data": {
            "text/plain": [
              "[[38.5948275862069, '15'],\n",
              " [23.810344827586206, '02'],\n",
              " [21.525, '20'],\n",
              " [16.796296296296298, '16'],\n",
              " [16.009174311926607, '21'],\n",
              " [14.741176470588234, '13'],\n",
              " [13.440677966101696, '10'],\n",
              " [13.233644859813085, '14'],\n",
              " [13.20183486238532, '18'],\n",
              " [11.46, '17'],\n",
              " [11.383333333333333, '01'],\n",
              " [11.051724137931034, '11'],\n",
              " [10.8, '19'],\n",
              " [10.25, '08'],\n",
              " [10.08695652173913, '05'],\n",
              " [9.41095890410959, '12'],\n",
              " [9.022727272727273, '06'],\n",
              " [8.127272727272727, '00'],\n",
              " [7.985294117647059, '23'],\n",
              " [7.852941176470588, '07'],\n",
              " [7.796296296296297, '03'],\n",
              " [7.170212765957447, '04'],\n",
              " [6.746478873239437, '22'],\n",
              " [5.5777777777777775, '09']]"
            ]
          },
          "execution_count": 35,
          "metadata": {},
          "output_type": "execute_result"
        }
      ]
    },
    {
      "cell_type": "code",
      "metadata": {
        "id": "LHoIn_1F7NNl",
        "outputId": "efe9dc22-649f-4027-b052-15626206d821"
      },
      "source": [
        "# Sorting the values and print the the 5 hours with the highest average comments.\n",
        "\n",
        "print(\"Top 5 Hours for 'Ask HN' Comments\")\n",
        "for avg, hr in sorted_swap[:5]:\n",
        "    print(\n",
        "        \"{}: {:.2f} average comments per post\".format(\n",
        "            dt.datetime.strptime(hr, \"%H\").strftime(\"%H:%M\"),avg\n",
        "        )\n",
        "    )"
      ],
      "execution_count": null,
      "outputs": [
        {
          "name": "stdout",
          "output_type": "stream",
          "text": [
            "Top 5 Hours for 'Ask HN' Comments\n",
            "15:00: 38.59 average comments per post\n",
            "02:00: 23.81 average comments per post\n",
            "20:00: 21.52 average comments per post\n",
            "16:00: 16.80 average comments per post\n",
            "21:00: 16.01 average comments per post\n"
          ]
        }
      ]
    },
    {
      "cell_type": "markdown",
      "metadata": {
        "id": "KOVb0G897NNm"
      },
      "source": [
        "\n",
        "The hour that receives the most comments per post on average is 15:00, with an average of 38.59 comments per post. From this finding it can be concluded that creating post during this hour gives a higher chance of receiving comments.\n",
        "There's about a 60% increase in the number of comments between the hours with the highest and second highest average number of comments.\n",
        "\n",
        "According to the data set [documentation](https://www.kaggle.com/hacker-news/hacker-news-posts), the timezone used is Eastern Time in the US. So, we could also write 15:00 as 3:00 pm est."
      ]
    }
  ]
}